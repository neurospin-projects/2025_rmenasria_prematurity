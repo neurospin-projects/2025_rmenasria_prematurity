{
 "cells": [
  {
   "cell_type": "code",
   "execution_count": 5,
   "metadata": {},
   "outputs": [],
   "source": [
    "import pandas as pd\n",
    "import os\n",
    "import numpy as np\n",
    "import matplotlib.pyplot as plt\n",
    "import seaborn as sns\n",
    "from sklearn.neighbors import NearestNeighbors\n",
    "from sklearn.cluster import KMeans\n",
    "from matplotlib import cm\n"
   ]
  },
  {
   "cell_type": "code",
   "execution_count": 6,
   "metadata": {},
   "outputs": [],
   "source": [
    "labels_path = \"/neurospin/dico/rmenasria/Runs/03_main/Input/ABCD/prematurity_labels_true_classes.csv\"\n",
    "base_path   = \"/neurospin/dico/data/deep_folding/current/models/Champollion_V1_after_ablation/embeddings/ABCD_embeddings/\""
   ]
  },
  {
   "cell_type": "code",
   "execution_count": 7,
   "metadata": {},
   "outputs": [],
   "source": [
    "labels_df = pd.read_csv(labels_path, low_memory=False)\n",
    "labels_df['src_subject_id'] = labels_df['src_subject_id'].str.replace(\"_\",\"\")"
   ]
  },
  {
   "cell_type": "code",
   "execution_count": 8,
   "metadata": {},
   "outputs": [],
   "source": [
    "thresholds  = [\"<28\",\"28-32\",\"32-37\"]\n",
    "threshold = thresholds[1]\n",
    "region = \"STs_right\"\n",
    "#region = \"FCMpost-SpC_right\""
   ]
  },
  {
   "cell_type": "code",
   "execution_count": 9,
   "metadata": {},
   "outputs": [
    {
     "name": "stdout",
     "output_type": "stream",
     "text": [
      "prem_class\n",
      ">=37     8646\n",
      "32-37    1215\n",
      "28-32      86\n",
      "<28        38\n",
      "Name: count, dtype: int64\n",
      "prem_class\n",
      ">=37     86.589885\n",
      "32-37    12.168252\n",
      "28-32     0.861292\n",
      "<28       0.380571\n",
      "Name: proportion, dtype: float64\n",
      "y\n",
      "0    8646\n",
      "1    1339\n",
      "Name: count, dtype: int64\n"
     ]
    }
   ],
   "source": [
    "embedding_file = None\n",
    "for file in os.listdir(base_path):\n",
    "    if file.startswith(region) and file.endswith(\".csv\"):\n",
    "        embedding_file = file\n",
    "        break\n",
    "if embedding_file is None:\n",
    "    raise FileNotFoundError(f\"No embedding file found for region: {region}\")\n",
    "\n",
    "emb_path = os.path.join(base_path, embedding_file)\n",
    "emb_df = pd.read_csv(emb_path)\n",
    "emb_df['ID_clean'] = (\n",
    "    emb_df['ID'].astype(str)\n",
    "    .str.replace(r\"^sub-\", \"\", regex=True)\n",
    "    .str.replace(\"_\", \"\", regex=False)\n",
    ")\n",
    "\n",
    "df = emb_df.merge(\n",
    "    labels_df,\n",
    "    left_on='ID_clean', right_on='src_subject_id', how='inner'\n",
    ")\n",
    "# statistics of prematurity groups\n",
    "print(df['prem_class'].value_counts())\n",
    "# percentages per class\n",
    "print(df['prem_class'].value_counts(normalize=True) * 100)\n",
    "#df = df[df['prem_class'].isin([threshold, \">=37\"])].copy()\n",
    "df['y'] = (df['prem_class'].isin(thresholds).astype(int))\n",
    "print(df['y'].value_counts())\n",
    "\n",
    "X = df.filter(regex=r'^dim').values\n",
    "y = df[['src_subject_id','y']]"
   ]
  },
  {
   "cell_type": "code",
   "execution_count": 10,
   "metadata": {},
   "outputs": [
    {
     "name": "stdout",
     "output_type": "stream",
     "text": [
      "First few rows of the merged DataFrame:\n",
      "          ID_clean   src_subject_id prem_class  y\n",
      "0  NDARINV003RTV85  NDARINV003RTV85       >=37  0\n",
      "1  NDARINV007W6H7B  NDARINV007W6H7B       >=37  0\n",
      "2  NDARINV00BD7VDC  NDARINV00BD7VDC       >=37  0\n",
      "3  NDARINV00HEV6HB  NDARINV00HEV6HB       >=37  0\n",
      "4  NDARINV00J52GPG  NDARINV00J52GPG       >=37  0\n"
     ]
    }
   ],
   "source": [
    "# Ensure the labels and embeddings are aligned by printing the first few rows\n",
    "print(\"First few rows of the merged DataFrame:\")\n",
    "print(df[['ID_clean', 'src_subject_id','prem_class', 'y']].head())\n",
    "\n"
   ]
  },
  {
   "cell_type": "code",
   "execution_count": 11,
   "metadata": {},
   "outputs": [],
   "source": [
    "# KMeans and centroids\n",
    "n_clusters = 40\n",
    "n_target   = 250\n",
    "\n",
    "kmeans   = KMeans(n_clusters=n_clusters, random_state=42).fit(X)\n",
    "centroids = kmeans.cluster_centers_\n",
    "labels0   = kmeans.labels_\n",
    "\n",
    "# Build truncated and overlappable clusters\n",
    "new_assign = {c: [] for c in range(n_clusters)}\n",
    "\n",
    "# keep the 250 closest within each original cluster\n",
    "for c in range(n_clusters):\n",
    "    idx_c = np.where(labels0 == c)[0]\n",
    "    dists = np.linalg.norm(X[idx_c] - centroids[c], axis=1)\n",
    "    order = np.argsort(dists)\n",
    "    new_assign[c] = list(idx_c[order[:n_target]])\n",
    "\n",
    "# fill to exactly 250 by grabbing next-closest from entire dataset\n",
    "for c in range(n_clusters):\n",
    "    current = set(new_assign[c])\n",
    "    deficit = n_target - len(current)\n",
    "    if deficit > 0:\n",
    "        # compute distances from all points to centroid c\n",
    "        dists_all = np.linalg.norm(X - centroids[c], axis=1)\n",
    "        order_all = np.argsort(dists_all)\n",
    "        # pick the closest that aren’t already in this cluster\n",
    "        to_add = []\n",
    "        for idx in order_all:\n",
    "            if idx not in current:\n",
    "                to_add.append(idx)\n",
    "                if len(to_add) == deficit:\n",
    "                    break\n",
    "        new_assign[c].extend(to_add)\n",
    "\n",
    "\n",
    "for c in range(n_clusters):\n",
    "    assert len(new_assign[c]) == n_target, f\"Cluster {c} size = {len(new_assign[c])}\"\n",
    "\n",
    "# Export overlapping clusters to CSV\n",
    "rows = []\n",
    "for c, members in new_assign.items():\n",
    "    for idx in members:\n",
    "        rows.append({\n",
    "            'cluster_fixed250': c,\n",
    "            'src_subject_id':   df.iloc[idx]['src_subject_id']\n",
    "        })\n",
    "\n",
    "\n",
    "out_df = pd.DataFrame(rows)\n",
    "\n"
   ]
  },
  {
   "cell_type": "markdown",
   "metadata": {},
   "source": [
    "## Cluster identification among all preterm subjects in the ABCD cohort"
   ]
  },
  {
   "cell_type": "code",
   "execution_count": 12,
   "metadata": {},
   "outputs": [
    {
     "name": "stdout",
     "output_type": "stream",
     "text": [
      "Cluster 0: 35 preterms / 250 (14.00%)\n",
      "Cluster 1: 25 preterms / 250 (10.00%)\n",
      "Cluster 2: 36 preterms / 250 (14.40%)\n",
      "Cluster 3: 27 preterms / 250 (10.80%)\n",
      "Cluster 4: 36 preterms / 250 (14.40%)\n",
      "Cluster 5: 21 preterms / 250 (8.40%)\n",
      "Cluster 6: 25 preterms / 250 (10.00%)\n",
      "Cluster 7: 35 preterms / 250 (14.00%)\n",
      "Cluster 8: 37 preterms / 250 (14.80%)\n",
      "Cluster 9: 31 preterms / 250 (12.40%)\n",
      "Cluster 10: 38 preterms / 250 (15.20%)\n",
      "Cluster 11: 20 preterms / 250 (8.00%)\n",
      "Cluster 12: 43 preterms / 250 (17.20%)\n",
      "Cluster 13: 17 preterms / 250 (6.80%)\n",
      "Cluster 14: 28 preterms / 250 (11.20%)\n",
      "Cluster 15: 23 preterms / 250 (9.20%)\n",
      "Cluster 16: 26 preterms / 250 (10.40%)\n",
      "Cluster 17: 27 preterms / 250 (10.80%)\n",
      "Cluster 18: 49 preterms / 250 (19.60%)\n",
      "Cluster 19: 36 preterms / 250 (14.40%)\n",
      "Cluster 20: 22 preterms / 250 (8.80%)\n",
      "Cluster 21: 37 preterms / 250 (14.80%)\n",
      "Cluster 22: 34 preterms / 250 (13.60%)\n",
      "Cluster 23: 29 preterms / 250 (11.60%)\n",
      "Cluster 24: 41 preterms / 250 (16.40%)\n",
      "Cluster 25: 47 preterms / 250 (18.80%)\n",
      "Cluster 26: 43 preterms / 250 (17.20%)\n",
      "Cluster 27: 52 preterms / 250 (20.80%)\n",
      "Cluster 28: 40 preterms / 250 (16.00%)\n",
      "Cluster 29: 35 preterms / 250 (14.00%)\n",
      "Cluster 30: 30 preterms / 250 (12.00%)\n",
      "Cluster 31: 37 preterms / 250 (14.80%)\n",
      "Cluster 32: 36 preterms / 250 (14.40%)\n",
      "Cluster 33: 36 preterms / 250 (14.40%)\n",
      "Cluster 34: 24 preterms / 250 (9.60%)\n",
      "Cluster 35: 42 preterms / 250 (16.80%)\n",
      "Cluster 36: 49 preterms / 250 (19.60%)\n",
      "Cluster 37: 41 preterms / 250 (16.40%)\n",
      "Cluster 38: 40 preterms / 250 (16.00%)\n",
      "Cluster 39: 24 preterms / 250 (9.60%)\n"
     ]
    },
    {
     "name": "stderr",
     "output_type": "stream",
     "text": [
      "/tmp/ipykernel_1639672/1454060757.py:27: FutureWarning: \n",
      "\n",
      "Passing `palette` without assigning `hue` is deprecated and will be removed in v0.14.0. Assign the `x` variable to `hue` and set `legend=False` for the same effect.\n",
      "\n",
      "  sns.barplot(\n"
     ]
    },
    {
     "data": {
      "image/png": "[encoded data removed]",
      "text/plain": [
       "<Figure size 1600x600 with 1 Axes>"
      ]
     },
     "metadata": {},
     "output_type": "display_data"
    }
   ],
   "source": [
    "clusters_df = out_df.merge(\n",
    "    df[['src_subject_id','y']],\n",
    "    on='src_subject_id',\n",
    "    how='left'\n",
    ")\n",
    "\n",
    "# Compute the stats per cluster\n",
    "cluster_stats = (\n",
    "    clusters_df\n",
    "    .groupby('cluster_fixed250')['y']\n",
    "    .agg(['count','sum'])                     # count = 250, sum = n_preterms\n",
    "    .rename(columns={'count':'n_subjects',\n",
    "                     'sum':'n_preterms'})\n",
    ")\n",
    "cluster_stats['preterm_rate'] = (\n",
    "    cluster_stats['n_preterms'] / cluster_stats['n_subjects']\n",
    ")\n",
    "\n",
    "# Quick overview of the stats\n",
    "for c in cluster_stats.index:\n",
    "    rate = cluster_stats.loc[c,'preterm_rate']\n",
    "    print(f\"Cluster {c}: {cluster_stats.loc[c,'n_preterms']} preterms / \"\n",
    "          f\"{cluster_stats.loc[c,'n_subjects']} ({rate:.2%})\")\n",
    "\n",
    "# Barplot \n",
    "plt.figure(figsize=(16,6))\n",
    "sns.barplot(\n",
    "    x=cluster_stats.index,\n",
    "    y=cluster_stats['preterm_rate'],\n",
    "    palette='viridis'\n",
    ")\n",
    "plt.ylabel(\"Proportion of preterm subjects\")\n",
    "plt.xlabel(\"Cluster (fixed 250 subjects)\")\n",
    "plt.title(\"Preterm rate per fixed‑size cluster\")\n",
    "plt.ylim(0, cluster_stats['preterm_rate'].max() * 1.1)\n",
    "plt.grid(axis='y', linestyle='--', alpha=0.5)\n",
    "plt.tight_layout()\n",
    "plt.show()"
   ]
  },
  {
   "cell_type": "code",
   "execution_count": 13,
   "metadata": {},
   "outputs": [],
   "source": [
    "# Compute prematurity rate per fixed cluster\n",
    "preterm_rates = (\n",
    "    clusters_df\n",
    "    .groupby('cluster_fixed250')['y']\n",
    "    .mean()\n",
    "    .sort_values(ascending=False)\n",
    ")\n",
    "\n",
    "# Rank clusters by descending prematurity rate\n",
    "ranked_clusters = {\n",
    "    cluster_id: rank \n",
    "    for rank, cluster_id in enumerate(preterm_rates.index)\n",
    "}\n",
    "\n",
    "# Add a new column 'cluster_ranked'\n",
    "clusters_df['cluster_ranked'] = clusters_df['cluster_fixed250'].map(ranked_clusters)\n",
    "\n",
    "# Sort DataFrame by that rank (so that cluster 0 is the one with highest preterm rate)\n",
    "clusters_df = clusters_df.sort_values(by=['cluster_ranked', 'cluster_fixed250'])\n",
    "\n",
    "# Save to CSV\n",
    "#clusters_df.to_csv(\"/neurospin/dico/rmenasria/Runs/03_main/Output/final/clustering/clusters_fixed250_overlapping_ranked_STS_right.csv\", index=False)\n"
   ]
  },
  {
   "cell_type": "code",
   "execution_count": 14,
   "metadata": {},
   "outputs": [
    {
     "data": {
      "image/png": "[encoded data removed]",
      "text/plain": [
       "<Figure size 500x300 with 1 Axes>"
      ]
     },
     "metadata": {},
     "output_type": "display_data"
    }
   ],
   "source": [
    "# for the report \n",
    "\n",
    "# Data\n",
    "counts = pd.Series({\n",
    "    \">=37\": 8646,\n",
    "    \"32-37\": 1215,\n",
    "    \"28-32\": 86,\n",
    "    \"<28\": 38\n",
    "}, name=\"count\")\n",
    "\n",
    "proportions = counts / counts.sum() * 100\n",
    "proportions.name = \"proportion (%)\"\n",
    "\n",
    "# DataFrame combiné\n",
    "df = pd.concat([counts, proportions.round(2)], axis=1)\n",
    "\n",
    "# Ajouter le total\n",
    "df.loc[\"Total\"] = [counts.sum(), proportions.sum()]\n",
    "\n",
    "# Reset index pour affichage clair\n",
    "df = df.reset_index().rename(columns={\"index\": \"Prematurity class\"})\n",
    "\n",
    "# Plot heatmap style (verticale)\n",
    "fig, ax = plt.subplots(figsize=(5, 3))\n",
    "sns.heatmap(\n",
    "    df.set_index(\"Prematurity class\"),\n",
    "    annot=True, fmt=\"g\", cmap=\"coolwarm\", cbar=False,\n",
    "    linewidths=.5, linecolor=\"gray\", ax=ax\n",
    ")\n",
    "\n",
    "ax.set_ylabel(\"\")\n",
    "ax.set_title(\"Prematurity classes (ABCD cohort)\", fontsize=14)\n",
    "\n",
    "plt.tight_layout()\n",
    "plt.show()\n",
    "\n",
    "\n"
   ]
  },
  {
   "cell_type": "code",
   "execution_count": 15,
   "metadata": {},
   "outputs": [
    {
     "name": "stdout",
     "output_type": "stream",
     "text": [
      "[Binomial test] Cluster 27: k=52, n=250, p_global=0.135, p-value=1.011e-03\n",
      "[Chi² test] Chi2=100.22, dof=39, p-value=2.730e-07\n"
     ]
    }
   ],
   "source": [
    "from scipy.stats import binomtest, chi2_contingency\n",
    "\n",
    "# 1. Test binomial sur le cluster le plus \"préterm\"\n",
    "# proportion globale\n",
    "p_global = clusters_df['y'].mean()\n",
    "# choisir par exemple le cluster avec max preterm_rate\n",
    "c_top = cluster_stats['preterm_rate'].idxmax()\n",
    "n = cluster_stats.loc[c_top, 'n_subjects']\n",
    "k = cluster_stats.loc[c_top, 'n_preterms']\n",
    "\n",
    "res_binom = binomtest(k, n, p=p_global, alternative='greater')\n",
    "print(f\"[Binomial test] Cluster {c_top}: k={k}, n={n}, p_global={p_global:.3f}, p-value={res_binom.pvalue:.3e}\")\n",
    "\n",
    "# 2. Test chi² sur toute la table clusters x préma\n",
    "contingency = pd.crosstab(clusters_df['cluster_fixed250'], clusters_df['y'])\n",
    "chi2, pval, dof, expected = chi2_contingency(contingency)\n",
    "print(f\"[Chi² test] Chi2={chi2:.2f}, dof={dof}, p-value={pval:.3e}\")\n"
   ]
  },
  {
   "cell_type": "code",
   "execution_count": 17,
   "metadata": {},
   "outputs": [
    {
     "name": "stdout",
     "output_type": "stream",
     "text": [
      "[Chi² test global] Chi2=100.22, dof=39, p-value=2.730e-07\n",
      "\n",
      "Clusters extrêmes :\n",
      " cluster  n_total  n_preterm  rate     pval  pval_bonf  signif\n",
      "      27      250         52 0.208 0.001011   0.040432    True\n",
      "      13      250         17 0.068 0.999756   1.000000   False\n"
     ]
    }
   ],
   "source": [
    "from scipy.stats import binomtest, chi2_contingency\n",
    "import numpy as np\n",
    "\n",
    "# proportion globale\n",
    "p_global = clusters_df['y'].mean()\n",
    "n_clusters = cluster_stats.shape[0]\n",
    "\n",
    "# --- 1. Tests binomiaux pour tous les clusters ---\n",
    "results = []\n",
    "for c, row in cluster_stats.iterrows():\n",
    "    n = int(row['n_subjects'])   # cast en int\n",
    "    k = int(row['n_preterms'])   # cast en int\n",
    "    res = binomtest(k, n, p=p_global, alternative='greater')\n",
    "    results.append((c, n, k, row['preterm_rate'], res.pvalue))\n",
    "\n",
    "results_df = pd.DataFrame(results, columns=[\"cluster\",\"n_total\",\"n_preterm\",\"rate\",\"pval\"])\n",
    "\n",
    "# Correction Bonferroni\n",
    "results_df[\"pval_bonf\"] = np.minimum(results_df[\"pval\"] * 2, 1.0)\n",
    "results_df[\"signif\"] = results_df[\"pval_bonf\"] < 0.05\n",
    "\n",
    "# --- 2. Chi² global ---\n",
    "contingency = pd.crosstab(clusters_df['cluster_fixed250'], clusters_df['y'])\n",
    "chi2, pval_chi2, dof, expected = chi2_contingency(contingency)\n",
    "print(f\"[Chi² test global] Chi2={chi2:.2f}, dof={dof}, p-value={pval_chi2:.3e}\")\n",
    "\n",
    "# --- 3. Extraire min et max pour rapport ---\n",
    "c_max = results_df.loc[results_df['rate'].idxmax()]\n",
    "c_min = results_df.loc[results_df['rate'].idxmin()]\n",
    "\n",
    "summary = results_df.loc[[c_max.name, c_min.name],\n",
    "                         [\"cluster\",\"n_total\",\"n_preterm\",\"rate\",\"pval\",\"pval_bonf\",\"signif\"]]\n",
    "\n",
    "print(\"\\nClusters extrêmes :\")\n",
    "print(summary.to_string(index=False))\n"
   ]
  },
  {
   "cell_type": "code",
   "execution_count": 18,
   "metadata": {},
   "outputs": [
    {
     "name": "stdout",
     "output_type": "stream",
     "text": [
      "[Binomial ciblé extrêmes] (Bonferroni m=2, max=‘greater’, min=‘less’)\n",
      " cluster  n_total  n_preterm  rate      pval pval_bonf  signif_0.05\n",
      "      27      250         52 0.208 1.011e-03 2.022e-03         True\n",
      "      13      250         17 0.068 5.515e-04 1.103e-03         True\n"
     ]
    }
   ],
   "source": [
    "# Tests ciblés uniquement sur les clusters extrêmes (max et min) + Bonferroni pour m=2\n",
    "from scipy.stats import binomtest\n",
    "import numpy as np\n",
    "import pandas as pd\n",
    "\n",
    "p_global = clusters_df['y'].mean()\n",
    "\n",
    "# repérer extrêmes\n",
    "c_max = cluster_stats['preterm_rate'].idxmax()\n",
    "c_min = cluster_stats['preterm_rate'].idxmin()\n",
    "\n",
    "rows = []\n",
    "for c, alt in [(c_max, 'greater'), (c_min, 'less')]:\n",
    "    n = int(cluster_stats.loc[c, 'n_subjects'])\n",
    "    k = int(cluster_stats.loc[c, 'n_preterms'])\n",
    "    rate = cluster_stats.loc[c, 'preterm_rate']\n",
    "    p_raw = binomtest(k, n, p=p_global, alternative=alt).pvalue\n",
    "    rows.append({\"cluster\": c, \"n_total\": n, \"n_preterm\": k, \"rate\": rate, \"pval\": p_raw})\n",
    "\n",
    "res2 = pd.DataFrame(rows).sort_values(\"rate\", ascending=False)\n",
    "res2[\"pval_bonf\"] = np.minimum(res2[\"pval\"] * 2, 1.0)  # Bonferroni avec m=2\n",
    "res2[\"signif_0.05\"] = res2[\"pval_bonf\"] < 0.05\n",
    "\n",
    "print(\"[Binomial ciblé extrêmes] (Bonferroni m=2, max=‘greater’, min=‘less’)\")\n",
    "print(res2.to_string(index=False, formatters={\"rate\": \"{:.3f}\".format, \"pval\":\"{:.3e}\".format, \"pval_bonf\":\"{:.3e}\".format}))\n"
   ]
  }
 ],
 "metadata": {
  "kernelspec": {
   "display_name": "default",
   "language": "python",
   "name": "python3"
  },
  "language_info": {
   "codemirror_mode": {
    "name": "ipython",
    "version": 3
   },
   "file_extension": ".py",
   "mimetype": "text/x-python",
   "name": "python",
   "nbconvert_exporter": "python",
   "pygments_lexer": "ipython3",
   "version": "3.11.0"
  }
 },
 "nbformat": 4,
 "nbformat_minor": 2
}
