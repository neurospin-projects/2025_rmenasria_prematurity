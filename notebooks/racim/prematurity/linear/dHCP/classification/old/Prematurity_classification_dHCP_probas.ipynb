{
 "cells": [
  {
   "cell_type": "code",
   "execution_count": 10,
   "metadata": {},
   "outputs": [],
   "source": [
    "import os\n",
    "import csv\n",
    "import numpy as np\n",
    "import pandas as pd\n",
    "from tqdm.auto import tqdm\n",
    "from sklearn.svm import SVC\n",
    "from sklearn.pipeline import Pipeline\n",
    "from sklearn.preprocessing import StandardScaler\n",
    "from sklearn.model_selection import (\n",
    "    StratifiedKFold,\n",
    "    cross_val_predict\n",
    ")"
   ]
  },
  {
   "cell_type": "code",
   "execution_count": 11,
   "metadata": {},
   "outputs": [],
   "source": [
    "# CONFIG\n",
    "labels_path = \"/neurospin/dico/data/deep_folding/current/datasets/dHCP_374_subjects/participants.csv\"\n",
    "base_path = \"/neurospin/dico/data/deep_folding/current/models/Champollion_V1_after_ablation\"\n",
    "# Stratification and brackets\n",
    "tranches = {\n",
    "    '<28': {'mask': (labels < 28)},\n",
    "    '28-32': {'mask': (labels >= 28) & (labels < 32)},\n",
    "    '32-37': {'mask': (labels >= 32) & (labels < 37)}\n",
    "}"
   ]
  },
  {
   "cell_type": "code",
   "execution_count": 12,
   "metadata": {},
   "outputs": [
    {
     "name": "stdout",
     "output_type": "stream",
     "text": [
      "labels 0     40.428571\n",
      "1     40.000000\n",
      "2     40.428571\n",
      "3     39.857143\n",
      "4     40.714286\n",
      "5     39.714286\n",
      "6     38.571429\n",
      "7     39.285714\n",
      "8     36.571429\n",
      "9     39.428571\n",
      "10    40.571429\n",
      "11    35.714286\n",
      "12    40.285714\n",
      "13    41.285714\n",
      "14    39.571429\n",
      "Name: birth_age, dtype: float64\n"
     ]
    }
   ],
   "source": [
    "labels_df = pd.read_csv(labels_path)\n",
    "labels=labels_df[\"birth_age\"]\n",
    "print(\"labels\", labels[:15])"
   ]
  },
  {
   "cell_type": "code",
   "execution_count": 15,
   "metadata": {},
   "outputs": [],
   "source": [
    "def compute_confidences_fixedC(region, threshold, base_path, labels_df,\n",
    "                               best_C, n_splits=5, n_jobs=1):\n",
    "\n",
    "\n",
    "\n",
    "    region_path = os.path.join(base_path, region)\n",
    "    \n",
    "    # Trouver le nom du dossier unique automatiquement\n",
    "    subdirs = [d for d in os.listdir(region_path) if os.path.isdir(os.path.join(region_path, d))]\n",
    "    if len(subdirs) != 1:\n",
    "        raise RuntimeError(f\"Il y a {len(subdirs)} sous-dossiers dans {region_path}, impossible de choisir automatiquement car il y a plusieurs modèles enregistrés par région.\")\n",
    "    model_folder = subdirs[0]\n",
    "\n",
    "    # Construire les chemins complets\n",
    "    embedding_path = os.path.join(region_path, model_folder, \"dHCP_random_embeddings\", \"full_embeddings.csv\")\n",
    "    embeddings = pd.read_csv(embedding_path, index_col=0)\n",
    "    embeddings= embeddings.loc[embeddings.index.isin(labels_df['Subject'])]\n",
    "    print(\"embeddings shape\",embeddings.shape)\n",
    "    print(\"embeddings columns\",embeddings.columns)\n",
    "    \n",
    "    name = threshold\n",
    "    info = tranches[name]\n",
    "    mask_pre = info['mask']\n",
    "    mask_term = (labels >= 37)\n",
    "    mask = mask_pre | mask_term\n",
    "    X= embeddings[mask.values]\n",
    "    y= np.where(mask_pre[mask], 1, 0)\n",
    "\n",
    "\n",
    "    # Create the pipeline with the best C (known from previous tuning)\n",
    "    pipe = Pipeline([\n",
    "        ('scaler', StandardScaler()),\n",
    "        ('svc',   SVC(kernel='linear', C=best_C, probability=True, class_weight='balanced'))\n",
    "    ])\n",
    "\n",
    "    # Get the probabilities using cross-validation\n",
    "    cv = StratifiedKFold(n_splits=n_splits, shuffle=True, random_state=42)\n",
    "    proba_pos = cross_val_predict(\n",
    "        pipe, X, y,\n",
    "        cv=cv,\n",
    "        method='predict_proba',\n",
    "        n_jobs=n_jobs\n",
    "    )[:, 1]\n",
    "\n",
    "    # Prepare the output DataFrame\n",
    "    out_df = pd.DataFrame({\n",
    "        'Subject':  embeddings.index[mask.values],\n",
    "        'proba_premature': proba_pos\n",
    "    }).sort_values('proba_premature', ascending=False)\n",
    "    out_df['region']    = region\n",
    "    out_df['threshold'] = threshold\n",
    "    return out_df\n"
   ]
  },
  {
   "cell_type": "code",
   "execution_count": 17,
   "metadata": {},
   "outputs": [
    {
     "name": "stdout",
     "output_type": "stream",
     "text": [
      "embeddings shape (374, 32)\n",
      "embeddings columns Index(['dim1', 'dim2', 'dim3', 'dim4', 'dim5', 'dim6', 'dim7', 'dim8', 'dim9',\n",
      "       'dim10', 'dim11', 'dim12', 'dim13', 'dim14', 'dim15', 'dim16', 'dim17',\n",
      "       'dim18', 'dim19', 'dim20', 'dim21', 'dim22', 'dim23', 'dim24', 'dim25',\n",
      "       'dim26', 'dim27', 'dim28', 'dim29', 'dim30', 'dim31', 'dim32'],\n",
      "      dtype='object')\n"
     ]
    },
    {
     "name": "stdout",
     "output_type": "stream",
     "text": [
      "Done: /neurospin/dico/rmenasria/Runs/03_main/Program/2025_rmenasria_prematurity/notebooks/racim/dHCP_STs_right_<28_confidences.csv\n"
     ]
    }
   ],
   "source": [
    "region = \"FCMpost-SpC_right\"\n",
    "threshold = \"28-32\"\n",
    "\n",
    "\n",
    "df_conf = compute_confidences_fixedC(\n",
    "    region=region,\n",
    "    threshold=threshold,\n",
    "    base_path=base_path,\n",
    "    labels_df=labels_df,\n",
    "    best_C=0.1,       \n",
    "    n_jobs=-1\n",
    ")\n",
    "output_csv = f\"/neurospin/dico/rmenasria/Runs/03_main/Program/2025_rmenasria_prematurity/notebooks/racim/dHCP_{region}_{threshold}_confidences.csv\"\n",
    "df_conf.to_csv(output_csv, index=False)\n",
    "print(\"Done:\", output_csv)\n"
   ]
  }
 ],
 "metadata": {
  "kernelspec": {
   "display_name": "default",
   "language": "python",
   "name": "python3"
  },
  "language_info": {
   "codemirror_mode": {
    "name": "ipython",
    "version": 3
   },
   "file_extension": ".py",
   "mimetype": "text/x-python",
   "name": "python",
   "nbconvert_exporter": "python",
   "pygments_lexer": "ipython3",
   "version": "3.11.0"
  }
 },
 "nbformat": 4,
 "nbformat_minor": 2
}
