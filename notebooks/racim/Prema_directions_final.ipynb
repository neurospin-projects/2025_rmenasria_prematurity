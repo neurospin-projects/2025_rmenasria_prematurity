{
 "cells": [
  {
   "cell_type": "code",
   "execution_count": 1,
   "metadata": {},
   "outputs": [],
   "source": [
    "import numpy as np\n",
    "\n"
   ]
  },
  {
   "cell_type": "code",
   "execution_count": 2,
   "metadata": {},
   "outputs": [],
   "source": [
    "def project_on_direction(X, coef, intercept):\n",
    "    \"\"\"\n",
    "    Projects the data X onto the hyperplane defined by coef and intercept.\n",
    "\n",
    "    Parameters\n",
    "    ----------\n",
    "    X : array-like, shape (n_samples, n_features)\n",
    "        The input data to be projected.\n",
    "    coef : array-like, shape (n_features,)\n",
    "        The coefficients defining the hyperplane.\n",
    "    intercept : float\n",
    "        The intercept defining the hyperplane.\n",
    "\n",
    "    Returns\n",
    "    -------\n",
    "    projections : array, shape (n_samples,)\n",
    "        The projections of each sample onto the hyperplane.\n",
    "    \"\"\"\n",
    "    # Calculate the norm of the coefficient vector\n",
    "    norm_coef = np.linalg.norm(coef)\n",
    "\n",
    "    # Project each sample onto the hyperplane\n",
    "    projections = (np.dot(X, coef) + intercept) / norm_coef\n",
    "\n",
    "    return projections\n"
   ]
  }
 ],
 "metadata": {
  "kernelspec": {
   "display_name": "default",
   "language": "python",
   "name": "python3"
  },
  "language_info": {
   "codemirror_mode": {
    "name": "ipython",
    "version": 3
   },
   "file_extension": ".py",
   "mimetype": "text/x-python",
   "name": "python",
   "nbconvert_exporter": "python",
   "pygments_lexer": "ipython3",
   "version": "3.11.0"
  }
 },
 "nbformat": 4,
 "nbformat_minor": 2
}
