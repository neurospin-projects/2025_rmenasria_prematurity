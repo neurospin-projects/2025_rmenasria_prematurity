{
 "cells": [
  {
   "cell_type": "code",
   "execution_count": 5,
   "metadata": {},
   "outputs": [],
   "source": [
    "import os\n",
    "import csv\n",
    "import numpy as np\n",
    "import pandas as pd\n",
    "from tqdm.auto import tqdm\n",
    "from sklearn.svm import SVC\n",
    "from sklearn.pipeline import Pipeline\n",
    "from sklearn.preprocessing import StandardScaler\n",
    "from sklearn.model_selection import (\n",
    "    StratifiedKFold,\n",
    "    cross_val_predict\n",
    ")"
   ]
  },
  {
   "cell_type": "code",
   "execution_count": 6,
   "metadata": {},
   "outputs": [],
   "source": [
    "# CONFIG\n",
    "labels_path = \"/neurospin/dico/rmenasria/Runs/03_main/Input/ABCD/prematurity_labels_true_classes.csv\"\n",
    "base_path   = \"/neurospin/dico/data/deep_folding/current/models/Champollion_V1_after_ablation/embeddings/ABCD_embeddings/\"\n",
    "output_csv  = \"/neurospin/dico/rmenasria/Runs/03_main/Program/2025_rmenasria_prematurity/notebooks/racim/ABCD_prematurity_results_pvalues.csv\"\n",
    "thresholds  = [\"<28\",\"28-32\",\"32-37\"]"
   ]
  },
  {
   "cell_type": "code",
   "execution_count": 7,
   "metadata": {},
   "outputs": [],
   "source": [
    "labels_df = pd.read_csv(labels_path, low_memory=False)\n",
    "labels_df['src_subject_id'] = labels_df['src_subject_id'].str.replace(\"_\",\"\")"
   ]
  },
  {
   "cell_type": "code",
   "execution_count": 8,
   "metadata": {},
   "outputs": [],
   "source": [
    "def compute_confidences_fixedC(region, threshold, base_path, labels_df,\n",
    "                               best_C, n_splits=5, n_jobs=1):\n",
    "    # Load and prepare the data\n",
    "    emb_file = next(f for f in os.listdir(base_path)\n",
    "                    if f.startswith(region) and f.endswith(\".csv\"))\n",
    "    emb_df = pd.read_csv(os.path.join(base_path, emb_file))\n",
    "    emb_df['ID_clean'] = (emb_df['ID']\n",
    "                          .str.replace(r\"^sub-\", \"\", regex=True)\n",
    "                          .str.replace(\"_\",\"\",    regex=False))\n",
    "    df = emb_df.merge(labels_df, left_on='ID_clean', right_on='src_subject_id', how='inner')\n",
    "    df = df[df['prem_class'].isin([threshold, \">=37\"])].copy()\n",
    "    df['y'] = (df['prem_class'] == threshold).astype(int)\n",
    "\n",
    "    X   = df.filter(regex=r'^dim').values\n",
    "    y   = df['y'].values\n",
    "    ids = df['src_subject_id'].values\n",
    "\n",
    "    # Create the pipeline with the best C (known from previous tuning)\n",
    "    pipe = Pipeline([\n",
    "        ('scaler', StandardScaler()),\n",
    "        ('svc',   SVC(kernel='linear', C=best_C, probability=True, class_weight='balanced'))\n",
    "    ])\n",
    "\n",
    "    # Get the probabilities using cross-validation\n",
    "    cv = StratifiedKFold(n_splits=n_splits, shuffle=True, random_state=42)\n",
    "    proba_pos = cross_val_predict(\n",
    "        pipe, X, y,\n",
    "        cv=cv,\n",
    "        method='predict_proba',\n",
    "        n_jobs=n_jobs\n",
    "    )[:, 1]\n",
    "\n",
    "    # Prepare the output DataFrame\n",
    "    out_df = pd.DataFrame({\n",
    "        'src_subject_id':  ids,\n",
    "        'proba_premature': proba_pos\n",
    "    }).sort_values('proba_premature', ascending=False)\n",
    "    out_df['region']    = region\n",
    "    out_df['threshold'] = threshold\n",
    "    return out_df\n",
    "\n"
   ]
  },
  {
   "cell_type": "code",
   "execution_count": null,
   "metadata": {},
   "outputs": [
    {
     "name": "stdout",
     "output_type": "stream",
     "text": [
      "Done: /neurospin/dico/rmenasria/Runs/03_main/Program/2025_rmenasria_prematurity/notebooks/racim/STi-SOTlat_right_28-32_new_confidences.csv\n"
     ]
    },
    {
     "ename": "",
     "evalue": "",
     "output_type": "error",
     "traceback": [
      "\u001b[1;31mThe Kernel crashed while executing code in the current cell or a previous cell. \n",
      "\u001b[1;31mPlease review the code in the cell(s) to identify a possible cause of the failure. \n",
      "\u001b[1;31mClick <a href='https://aka.ms/vscodeJupyterKernelCrash'>here</a> for more info. \n",
      "\u001b[1;31mView Jupyter <a href='command:jupyter.viewOutput'>log</a> for further details."
     ]
    }
   ],
   "source": [
    "#region = \"FCLp-subsc-FCLa-INSULA_right\"\n",
    "#region = \"FCMpost-SpC_right\"\n",
    "#region = \"STi-STs-STpol_right\"\n",
    "#region = \"STs_right\"\n",
    "#region = \"SFinf-BROCA-SPeCinf_left\"\n",
    "#region = \"FColl-SRh_right\"\n",
    "region = \"STi-SOTlat_right\"\n",
    "\n",
    "\n",
    "threshold = thresholds[1] \n",
    "\n",
    "\n",
    "df_conf = compute_confidences_fixedC(\n",
    "    region=region,\n",
    "    threshold=threshold,\n",
    "    base_path=base_path,\n",
    "    labels_df=labels_df,\n",
    "    best_C=10,       \n",
    "    n_jobs=-1\n",
    ")\n",
    "output_csv = f\"/neurospin/dico/rmenasria/Runs/03_main/Program/2025_rmenasria_prematurity/notebooks/racim/{region}_{threshold}_new_confidences.csv\"\n",
    "df_conf.to_csv(output_csv, index=False)\n",
    "print(\"Done:\", output_csv)\n"
   ]
  }
 ],
 "metadata": {
  "kernelspec": {
   "display_name": "default",
   "language": "python",
   "name": "python3"
  },
  "language_info": {
   "codemirror_mode": {
    "name": "ipython",
    "version": 3
   },
   "file_extension": ".py",
   "mimetype": "text/x-python",
   "name": "python",
   "nbconvert_exporter": "python",
   "pygments_lexer": "ipython3",
   "version": "3.11.0"
  }
 },
 "nbformat": 4,
 "nbformat_minor": 2
}
