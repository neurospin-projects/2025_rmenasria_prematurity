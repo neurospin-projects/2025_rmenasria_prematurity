{
 "cells": [
  {
   "cell_type": "code",
   "execution_count": 1,
   "metadata": {},
   "outputs": [],
   "source": [
    "import anatomist.api as ana\n",
    "from soma.qt_gui.qtThread import QtThreadCall\n",
    "from soma.qt_gui.qt_backend import Qt\n",
    "\n",
    "from soma import aims\n",
    "import pandas as pd\n",
    "import numpy as np\n",
    "import os"
   ]
  },
  {
   "cell_type": "code",
   "execution_count": null,
   "metadata": {},
   "outputs": [
    {
     "name": "stderr",
     "output_type": "stream",
     "text": [
      "existing QApplication: 0\n"
     ]
    },
    {
     "name": "stdout",
     "output_type": "stream",
     "text": [
      "global modules:create qapp\n",
      " /neurospin/dico/rmenasria/Runs/03_main/Program/main_pixi/.pixi/envs/default/share/anatomist-5.2/python_plugins\n",
      "home   modules: /home/rm283713/.anatomist/python_plugins\n",
      "done\n",
      "Starting Anatomist.....\n",
      "config file : /home/rm283713/.anatomist/config/settings.cfg\n",
      "PyAnatomist Module present\n",
      "PythonLauncher::runModules()\n",
      "loading module gltf_io\n",
      "loading module palettecontrols\n",
      "loading module paletteViewer\n",
      "loading module meshsplit\n",
      "loading module profilewindow\n",
      "loading module ana_image_math\n",
      "loading module anacontrolmenu\n",
      "loading module foldsplit\n",
      "loading module modelGraphs\n",
      "loading module bsa_proba\n",
      "loading module histogram\n",
      "loading module gradientpalette\n",
      "loading module infowindow\n",
      "loading module simple_controls\n",
      "loading module volumepalettes\n",
      "loading module statsplotwindow\n",
      "loading module save_resampled\n",
      "loading module valuesplotwindow\n",
      "loading module selection\n",
      "all python modules loaded\n",
      "Anatomist started.\n"
     ]
    },
    {
     "ename": "",
     "evalue": "",
     "output_type": "error",
     "traceback": [
      "\u001b[1;31mThe Kernel crashed while executing code in the current cell or a previous cell. \n",
      "\u001b[1;31mPlease review the code in the cell(s) to identify a possible cause of the failure. \n",
      "\u001b[1;31mClick <a href='https://aka.ms/vscodeJupyterKernelCrash'>here</a> for more info. \n",
      "\u001b[1;31mView Jupyter <a href='command:jupyter.viewOutput'>log</a> for further details."
     ]
    }
   ],
   "source": [
    "a = ana.Anatomist()\n",
    "dataset = 'ABCD'\n",
    "sample = [\"NDARINVUEXW27D7\"]\n",
    "nb_columns = 2\n",
    "block = a.createWindowsBlock(nb_columns)\n",
    "dic_windows = {}"
   ]
  },
  {
   "cell_type": "code",
   "execution_count": 6,
   "metadata": {},
   "outputs": [
    {
     "name": "stdout",
     "output_type": "stream",
     "text": [
      "L: deepcnn OK\n",
      "R: deepcnn OK\n"
     ]
    }
   ],
   "source": [
    "\n",
    "referential1 = a.createReferential()\n",
    "\n",
    "dic_windows['Sulci_color']=a.loadObject('/casa/host/build/share/brainvisa-share-5.2/nomenclature/hierarchy/sulcal_root_colors.hie')\n",
    "\n",
    "for i, subject_id in enumerate(sample):\n",
    "    path_to_t1mri = f'/neurospin/dico/rmenasria/Runs/03_main/Input/remote_data/ABCD_QC'\n",
    "\n",
    "    for side in ['L', 'R']:  # both hemispheres\n",
    "        white_matter_path = f'{path_to_t1mri}/default_acquisition/default_analysis/segmentation/mesh/sub-{subject_id}_{side}white.gii'\n",
    "        deep_labelled_sulci_path = f'{path_to_t1mri}/default_acquisition/default_analysis/folds/3.1/deepcnn_session_auto/{side}sub-{subject_id}_deepcnn_session_auto.arg'\n",
    "\n",
    "        if os.path.isfile(white_matter_path):\n",
    "            white_obj = a.loadObject(white_matter_path)\n",
    "            white_obj.assignReferential(referential1)\n",
    "            dic_windows[f'white_{subject_id}_{side}'] = white_obj\n",
    "        else:\n",
    "            print(f\"{white_matter_path} not found\")\n",
    "\n",
    "        if os.path.isfile(deep_labelled_sulci_path):\n",
    "            print(f\"{side}: deepcnn OK\")\n",
    "            sulci_obj = a.loadObject(deep_labelled_sulci_path)\n",
    "            sulci_obj.assignReferential(referential1)\n",
    "            dic_windows[f'sulci_{subject_id}_{side}'] = sulci_obj\n",
    "        else:\n",
    "            print(f\"{deep_labelled_sulci_path} not found\")\n",
    "\n",
    "        # Création d'une fenêtre par hémisphère\n",
    "        win = a.createWindow('3D', block=block)\n",
    "        win.addObjects([dic_windows[f'white_{subject_id}_{side}'],\n",
    "                        dic_windows[f'sulci_{subject_id}_{side}']])\n",
    "        dic_windows[f'win_{side}'] = win"
   ]
  },
  {
   "cell_type": "code",
   "execution_count": 4,
   "metadata": {},
   "outputs": [],
   "source": [
    "dic_windows['Sulci_color']=a.loadObject('/casa/host/build/share/brainvisa-share-5.2/nomenclature/hierarchy/sulcal_root_colors.hie')"
   ]
  }
 ],
 "metadata": {
  "kernelspec": {
   "display_name": "default",
   "language": "python",
   "name": "python3"
  },
  "language_info": {
   "codemirror_mode": {
    "name": "ipython",
    "version": 3
   },
   "file_extension": ".py",
   "mimetype": "text/x-python",
   "name": "python",
   "nbconvert_exporter": "python",
   "pygments_lexer": "ipython3",
   "version": "3.11.0"
  }
 },
 "nbformat": 4,
 "nbformat_minor": 2
}
