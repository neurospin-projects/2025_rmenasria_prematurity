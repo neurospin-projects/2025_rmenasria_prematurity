{
 "cells": [
  {
   "cell_type": "code",
   "execution_count": 1,
   "metadata": {},
   "outputs": [],
   "source": [
    "import os\n",
    "import csv\n",
    "import numpy as np\n",
    "import pandas as pd\n",
    "import matplotlib.pyplot as plt\n",
    "from tqdm.auto import tqdm\n",
    "from sklearn.linear_model import LinearRegression,Ridge\n",
    "from sklearn.pipeline import Pipeline\n",
    "from sklearn.preprocessing import StandardScaler\n",
    "from sklearn.metrics import r2_score\n",
    "from scipy.stats import pearsonr\n",
    "from sklearn.model_selection import (\n",
    "    KFold,\n",
    "    GridSearchCV,\n",
    "    cross_val_score,\n",
    "    cross_val_predict\n",
    ")"
   ]
  },
  {
   "cell_type": "code",
   "execution_count": 3,
   "metadata": {},
   "outputs": [],
   "source": [
    "def get_region_list(base_path):\n",
    "    return sorted([\n",
    "        d for d in os.listdir(base_path)\n",
    "        if os.path.isdir(os.path.join(base_path, d))\n",
    "           and not d.startswith('all_models')\n",
    "           and not d.startswith('hcp')\n",
    "           and not d.startswith('ukb')\n",
    "           and not d.endswith('.csv')\n",
    "           and not d.endswith('.sh')\n",
    "           and not d.endswith('embeddings')\n",
    "    ])"
   ]
  },
  {
   "cell_type": "code",
   "execution_count": 5,
   "metadata": {},
   "outputs": [
    {
     "name": "stdout",
     "output_type": "stream",
     "text": [
      "(27028, 120)\n",
      "(11727, 120)\n",
      "Index([    0,     1,     3,     5,     7,    10,    13,    15,    18,    20,\n",
      "       ...\n",
      "       27001, 27003, 27006, 27008, 27010, 27012, 27015, 27018, 27021, 27024],\n",
      "      dtype='int64', length=11727)\n"
     ]
    },
    {
     "name": "stderr",
     "output_type": "stream",
     "text": [
      "/tmp/ipykernel_3351090/1604426378.py:17: DtypeWarning: Columns (49) have mixed types. Specify dtype option on import or set low_memory=False.\n",
      "  labels_df = pd.read_csv(labels_path)\n"
     ]
    }
   ],
   "source": [
    "# CONFIG\n",
    "labels_path = \"/neurospin/dico/rmenasria/Runs/03_main/Input/cognition/nc_y_nihtb.csv\"\n",
    "base_path   = \"/neurospin/dico/data/deep_folding/current/models/Champollion_V1_after_ablation/embeddings/ABCD_embeddings/\"\n",
    "\n",
    "scores = [\n",
    " 'nihtbx_flanker_agecorrected',\n",
    " 'nihtbx_cardsort_agecorrected',\n",
    " 'nihtbx_list_agecorrected',\n",
    " 'nihtbx_pattern_agecorrected',\n",
    " 'nihtbx_picvocab_agecorrected',\n",
    " 'nihtbx_reading_agecorrected',\n",
    " 'nihtbx_fluidcomp_agecorrected',\n",
    " 'nihtbx_cryst_agecorrected',\n",
    " 'nihtbx_totalcomp_agecorrected'\n",
    "]\n",
    "\n",
    "labels_df = pd.read_csv(labels_path)\n",
    "print(labels_df.shape)\n",
    "labels_df = labels_df[labels_df[\"eventname\"] == \"baseline_year_1_arm_1\"]\n",
    "print(labels_df.shape)\n",
    "\n",
    "existing_scores = [s for s in scores if s in labels_df.columns]\n",
    "cols = [\"src_subject_id\"] + existing_scores\n",
    "labels_df = labels_df[cols]\n",
    "print(labels_df.index)\n",
    "\n",
    "regions = get_region_list(os.path.join(base_path,\"../..\"))\n",
    "regions.remove(\"params_OLS\")\n",
    "regions.remove(\"region_list\")\n",
    "regions.remove(\"analysis\")\n",
    "#regions = [\"STs_right\",\"FCLp-subsc-FCLa-INSULA_right\",\"FCMpost-SpC_right\",\"STi-STs-STpol_right\"]\n",
    "#region = regions[0]\n",
    "\n",
    "labels_df['src_subject_id'] = (\n",
    "    labels_df['src_subject_id'].astype(str)\n",
    "    .str.replace(r\"^sub-\", \"\", regex=True)\n",
    "    .str.replace(\"_\", \"\", regex=False)\n",
    ")\n",
    "\n",
    "df_ages = pd.read_csv(\"/neurospin/dico/rmenasria/Runs/03_main/Input/ABCD/prematurity_labels_true_classes.csv\")"
   ]
  },
  {
   "cell_type": "code",
   "execution_count": 6,
   "metadata": {},
   "outputs": [],
   "source": [
    "def load_embeddings(region):\n",
    "    \n",
    "    for file in os.listdir(base_path):\n",
    "            if file.startswith(region) and file.endswith(\".csv\"):\n",
    "                embedding_file = file\n",
    "                break\n",
    "            \n",
    "    if embedding_file is None:\n",
    "        raise FileNotFoundError(f\"No embedding file found for region: {region}\")\n",
    "\n",
    "    print(f\"Using embedding file: {embedding_file}\")\n",
    "\n",
    "    emb_path = os.path.join(base_path, embedding_file)\n",
    "    emb_df = pd.read_csv(emb_path)\n",
    "    emb_df['ID_clean'] = (\n",
    "        emb_df['ID'].astype(str)\n",
    "        .str.replace(r\"^sub-\", \"\", regex=True)\n",
    "        .str.replace(\"_\", \"\", regex=False)\n",
    "    )\n",
    "    return emb_df"
   ]
  },
  {
   "cell_type": "code",
   "execution_count": 24,
   "metadata": {},
   "outputs": [],
   "source": [
    "def preprocess_data(df,prem_class,score):\n",
    "    \n",
    "    df_with_cognition = df.merge(\n",
    "        labels_df,\n",
    "        left_on='ID_clean', right_on='src_subject_id', how='inner'\n",
    "    )\n",
    "    df_with_cognition_and_ages= df_with_cognition.merge(df_ages, left_on='src_subject_id', right_on='src_subject_id', how='inner')\n",
    "    print(df.columns)\n",
    "    df_with_cognition_and_ages= df_with_cognition_and_ages[df_with_cognition_and_ages[\"prem_class\"].isin(prem_class)]\n",
    "    print(\"test\",df_with_cognition_and_ages.shape)\n",
    "\n",
    "    df_with_cognition_and_ages['y'] = df_with_cognition_and_ages[score]\n",
    "    df_with_cognition_and_ages.dropna(subset=[score], inplace=True)\n",
    "\n",
    "    X = df_with_cognition_and_ages.filter(regex=r'^dim').values\n",
    "    y = df_with_cognition_and_ages['y'].values\n",
    "    print(f\"Shape of X: {X.shape}, Shape of y: {y.shape}\")\n",
    "\n",
    "    return X, y, df_with_cognition_and_ages\n",
    "    \n"
   ]
  },
  {
   "cell_type": "code",
   "execution_count": 25,
   "metadata": {},
   "outputs": [],
   "source": [
    "def regress_on_cognition(score,region,prem_class):\n",
    "   \n",
    "    emb_df = load_embeddings(region)\n",
    "    X,y, df_aligned  = preprocess_data(emb_df, prem_class, score)\n",
    "\n",
    "\n",
    "    pipe = Pipeline([\n",
    "        ('scaler', StandardScaler()),\n",
    "        ('regressor',Ridge())\n",
    "    ])\n",
    "\n",
    "    cv = KFold(n_splits=5, shuffle=True, random_state=42)\n",
    "\n",
    "    grid = GridSearchCV(\n",
    "        pipe, {'regressor__alpha': [0.01, 0.1, 1, 10]},\n",
    "        cv=cv, scoring='r2', n_jobs=-1\n",
    "    )\n",
    "    grid.fit(X, y)\n",
    "    best_C = grid.best_params_['regressor__alpha']\n",
    "    cv_scores = cross_val_score(grid, X, y,\n",
    "                                cv=cv, scoring='r2', n_jobs=-1)\n",
    "    print(f\"Results for region {region} and score {score}:\")\n",
    "    print(cv_scores.mean(), cv_scores.std())\n",
    "\n",
    "    # cross-validated predictions for pearson\n",
    "    y_pred = cross_val_predict(grid.best_estimator_, X, y, cv=cv, n_jobs=-1)\n",
    "    \n",
    "     # keep the subject IDs\n",
    "\n",
    "    ranked = pd.DataFrame({\n",
    "        \"subject_id\": df_aligned[\"ID_clean\"].values, \n",
    "        \"y_true\": y,\n",
    "        \"y_pred\": y_pred\n",
    "    }).sort_values(\"y_pred\", ascending=False)\n",
    "\n",
    "    # add general info \n",
    "    ranked[\"region\"] = region\n",
    "    ranked[\"score\"] = score\n",
    "    ranked[\"best_alpha\"] = best_C\n",
    "    ranked[\"n\"] = len(y)\n",
    "    \n",
    "    return ranked\n"
   ]
  },
  {
   "cell_type": "code",
   "execution_count": 31,
   "metadata": {},
   "outputs": [
    {
     "name": "stdout",
     "output_type": "stream",
     "text": [
      "Using embedding file: FColl-SRh_right_name06-56-15--113_embeddings.csv\n",
      "Index(['ID', 'dim1', 'dim2', 'dim3', 'dim4', 'dim5', 'dim6', 'dim7', 'dim8',\n",
      "       'dim9', 'dim10', 'dim11', 'dim12', 'dim13', 'dim14', 'dim15', 'dim16',\n",
      "       'dim17', 'dim18', 'dim19', 'dim20', 'dim21', 'dim22', 'dim23', 'dim24',\n",
      "       'dim25', 'dim26', 'dim27', 'dim28', 'dim29', 'dim30', 'dim31', 'dim32',\n",
      "       'ID_clean'],\n",
      "      dtype='object')\n",
      "test (8532, 48)\n",
      "Shape of X: (8528, 32), Shape of y: (8528,)\n",
      "Results for region FColl-SRh_right and score nihtbx_picvocab_agecorrected:\n",
      "0.03692950523899778 0.010620843436806119\n"
     ]
    },
    {
     "ename": "",
     "evalue": "",
     "output_type": "error",
     "traceback": [
      "\u001b[1;31mThe Kernel crashed while executing code in the current cell or a previous cell. \n",
      "\u001b[1;31mPlease review the code in the cell(s) to identify a possible cause of the failure. \n",
      "\u001b[1;31mClick <a href='https://aka.ms/vscodeJupyterKernelCrash'>here</a> for more info. \n",
      "\u001b[1;31mView Jupyter <a href='command:jupyter.viewOutput'>log</a> for further details."
     ]
    }
   ],
   "source": [
    "score = \"nihtbx_picvocab_agecorrected\"\n",
    "region = \"FColl-SRh_right\"\n",
    "#region = \"FPO-SCu-ScCal_right\"\n",
    "#score = \"nihtbx_pattern_agecorrected\"\n",
    "\n",
    "scores = regress_on_cognition(score,region,[\">=37\"])\n",
    "scores.to_csv(f\"/neurospin/dico/rmenasria/Runs/03_main/Output/csv/cognitive/direction/direction_fullterms_{score}_{region}.csv\")"
   ]
  }
 ],
 "metadata": {
  "kernelspec": {
   "display_name": "default",
   "language": "python",
   "name": "python3"
  },
  "language_info": {
   "codemirror_mode": {
    "name": "ipython",
    "version": 3
   },
   "file_extension": ".py",
   "mimetype": "text/x-python",
   "name": "python",
   "nbconvert_exporter": "python",
   "pygments_lexer": "ipython3",
   "version": "3.11.0"
  }
 },
 "nbformat": 4,
 "nbformat_minor": 2
}
