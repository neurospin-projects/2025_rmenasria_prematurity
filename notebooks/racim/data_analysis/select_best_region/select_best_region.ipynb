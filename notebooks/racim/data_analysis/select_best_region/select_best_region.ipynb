{
 "cells": [
  {
   "cell_type": "markdown",
   "metadata": {},
   "source": [
    "### This notebooks explores a way to select a region from all the 58 candidate regions based on the following criteria : the AUCs of the classification tasks on ABCD and dHCP and the shift of the gravity centers between adult and newborn crops. "
   ]
  },
  {
   "cell_type": "code",
   "execution_count": 64,
   "metadata": {},
   "outputs": [],
   "source": [
    "import pandas as pd\n",
    "import numpy as np \n",
    "import matplotlib.pyplot as plt\n"
   ]
  },
  {
   "cell_type": "code",
   "execution_count": 65,
   "metadata": {},
   "outputs": [],
   "source": [
    "# Read the AUC values per region\n",
    "\n",
    "abcd_auc_df = pandas.read_csv('/neurospin/dico/rmenasria/Runs/03_main/Output/csv/prematurity_AUC_by_region_ABCD_3006_thresholded.csv', index_col=\"region\")\n",
    "\n",
    "abcd_auc_27 = abcd_auc_df['AUC_27']\n",
    "abcd_auc_32 = abcd_auc_df['AUC_27_32']\n",
    "abcd_auc_37 = abcd_auc_df['AUC_37']\n",
    "\n"
   ]
  },
  {
   "cell_type": "code",
   "execution_count": 66,
   "metadata": {},
   "outputs": [],
   "source": [
    "dhcp_auc_df = pandas.read_csv('/neurospin/dico/rmenasria/Runs/03_main/Output/csv/prematurity_AUC_by_region_thresholded_1205.csv', index_col=\"region\")\n",
    "dhcp_auc_27 = dhcp_auc_df['AUC_27']\n",
    "dhcp_auc_32 = dhcp_auc_df['AUC_27_32']\n",
    "dhcp_auc_37 = dhcp_auc_df['AUC_37']"
   ]
  },
  {
   "cell_type": "code",
   "execution_count": 67,
   "metadata": {},
   "outputs": [],
   "source": [
    "# Read the gravity center shift values per region\n",
    "gravity_center_shifts = pd.read_csv('/neurospin/dico/rmenasria/Runs/03_main/Output/csv/all_regions_gravity_center_shifts.csv', index_col=\"region\")\n",
    "#Replace all the \".\" by \" \" in the region names\n",
    "gravity_center_shifts.index = gravity_center_shifts.index.str.replace('.', '')\n",
    "shift_x = gravity_center_shifts['shift_x']\n",
    "shift_y = gravity_center_shifts['shift_y']\n",
    "shift_z = gravity_center_shifts['shift_z']\n",
    "shift_distance = gravity_center_shifts['distance']"
   ]
  },
  {
   "cell_type": "code",
   "execution_count": 68,
   "metadata": {},
   "outputs": [],
   "source": [
    "# Fusionner tout dans un DataFrame\n",
    "combined_df = pd.DataFrame({\n",
    "    \"abcd_auc_27\": abcd_auc_27,\n",
    "    \"abcd_auc_32\": abcd_auc_32,\n",
    "    \"abcd_auc_37\": abcd_auc_37,\n",
    "    \"dhcp_auc_27\": dhcp_auc_27,\n",
    "    \"dhcp_auc_32\": dhcp_auc_32,\n",
    "    \"dhcp_auc_37\": dhcp_auc_37,\n",
    "    \"shift_distance\": shift_distance\n",
    "})\n"
   ]
  },
  {
   "cell_type": "code",
   "execution_count": 69,
   "metadata": {},
   "outputs": [],
   "source": [
    "def compute_weighted_region_scores(df, weights=None, min_valid=5, invert_shift=True):\n",
    "\n",
    "    # (z-score) per column\n",
    "    z_df = (df - df.mean()) / df.std()\n",
    "\n",
    "    # Invert shift\n",
    "    if invert_shift and 'shift_distance' in z_df.columns:\n",
    "        z_df['shift_distance'] = -z_df['shift_distance']\n",
    "\n",
    "    # print the shift distance z-scores in decreasing order\n",
    "    # print(\"Shift distance z-scores (decreasing order):\")\n",
    "    # print(z_df['shift_distance'].sort_values(ascending=False))\n",
    "\n",
    "    # weights\n",
    "    if weights is None:\n",
    "        weights = {col: 1 for col in z_df.columns}\n",
    "\n",
    "    # Apply weights\n",
    "    common_cols = [col for col in z_df.columns if col in weights]\n",
    "    weighted = pd.DataFrame(index=z_df.index)\n",
    "\n",
    "    for col in common_cols:\n",
    "        weighted[col] = z_df[col] * weights[col]\n",
    "\n",
    "    # Number of valid metrics\n",
    "    weighted[\"n_valid\"] = weighted[common_cols].notna().sum(axis=1)\n",
    "\n",
    "    # Filter\n",
    "    filtered = weighted[weighted[\"n_valid\"] >= min_valid].copy()\n",
    "\n",
    "    # Calculate global score\n",
    "    filtered[\"global_score\"] = filtered[common_cols].sum(axis=1, skipna=True) / \\\n",
    "                               filtered[common_cols].notna().mul([weights[col] for col in common_cols], axis=1).sum(axis=1)\n",
    "\n",
    "    # Sort by global score\n",
    "    return filtered.sort_values(\"global_score\", ascending=False)\n"
   ]
  },
  {
   "cell_type": "code",
   "execution_count": 87,
   "metadata": {},
   "outputs": [
    {
     "name": "stdout",
     "output_type": "stream",
     "text": [
      "                                   global_score\n",
      "region                                         \n",
      "FCMpost-SpC_right                      0.778574\n",
      "SC-sylv_right                          0.776293\n",
      "SsP-SPaint_right                       0.755041\n",
      "FPO-SCu-ScCal_right                    0.754442\n",
      "FCMpost-SpC_left                       0.682105\n",
      "ScCal-SLi_right                        0.557689\n",
      "SC-sylv_left                           0.513005\n",
      "fronto-parietal_medial_face_right      0.507278\n",
      "fronto-parietal_medial_face_left       0.498242\n",
      "SC-SPoC_left                           0.491670\n"
     ]
    }
   ],
   "source": [
    "weights = {\n",
    "    \"abcd_auc_27\": 2,\n",
    "    \"abcd_auc_32\": 2,\n",
    "    \"abcd_auc_37\": 1,\n",
    "    \"dhcp_auc_27\": 2,\n",
    "    \"dhcp_auc_32\": 2,\n",
    "    \"dhcp_auc_37\": 1,\n",
    "    \"shift_distance\": 6\n",
    "}\n",
    "\n",
    "ranked = compute_weighted_region_scores(combined_df, weights=weights, min_valid=5, invert_shift=True)\n",
    "\n",
    "# Display the top 10 regions based on the global score\n",
    "print(ranked[[\"global_score\"]].head(10))\n"
   ]
  }
 ],
 "metadata": {
  "kernelspec": {
   "display_name": "default",
   "language": "python",
   "name": "python3"
  },
  "language_info": {
   "codemirror_mode": {
    "name": "ipython",
    "version": 3
   },
   "file_extension": ".py",
   "mimetype": "text/x-python",
   "name": "python",
   "nbconvert_exporter": "python",
   "pygments_lexer": "ipython3",
   "version": "3.11.0"
  }
 },
 "nbformat": 4,
 "nbformat_minor": 2
}
