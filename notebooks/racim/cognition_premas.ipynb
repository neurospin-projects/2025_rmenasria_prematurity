{
 "cells": [
  {
   "cell_type": "code",
   "execution_count": 55,
   "metadata": {},
   "outputs": [],
   "source": [
    "import os\n",
    "import csv\n",
    "import numpy as np\n",
    "import pandas as pd\n",
    "from tqdm.auto import tqdm\n",
    "from sklearn.linear_model import LinearRegression,Ridge\n",
    "from sklearn.pipeline import Pipeline\n",
    "from sklearn.preprocessing import StandardScaler\n",
    "from sklearn.metrics import r2_score\n",
    "from scipy.stats import pearsonr\n",
    "from sklearn.model_selection import (\n",
    "    KFold,\n",
    "    GridSearchCV,\n",
    "    cross_val_score,\n",
    "    cross_val_predict\n",
    ")"
   ]
  },
  {
   "cell_type": "code",
   "execution_count": 56,
   "metadata": {},
   "outputs": [],
   "source": [
    "def get_region_list(base_path):\n",
    "    return sorted([\n",
    "        d for d in os.listdir(base_path)\n",
    "        if os.path.isdir(os.path.join(base_path, d))\n",
    "           and not d.startswith('all_models')\n",
    "           and not d.startswith('hcp')\n",
    "           and not d.startswith('ukb')\n",
    "           and not d.endswith('.csv')\n",
    "           and not d.endswith('.sh')\n",
    "           and not d.endswith('embeddings')\n",
    "    ])"
   ]
  },
  {
   "cell_type": "code",
   "execution_count": 62,
   "metadata": {},
   "outputs": [
    {
     "name": "stdout",
     "output_type": "stream",
     "text": [
      "(27028, 120)\n",
      "(11727, 120)\n",
      "Index([    0,     1,     3,     5,     7,    10,    13,    15,    18,    20,\n",
      "       ...\n",
      "       27001, 27003, 27006, 27008, 27010, 27012, 27015, 27018, 27021, 27024],\n",
      "      dtype='int64', length=11727)\n"
     ]
    },
    {
     "name": "stderr",
     "output_type": "stream",
     "text": [
      "/tmp/ipykernel_692329/4230930205.py:17: DtypeWarning: Columns (49) have mixed types. Specify dtype option on import or set low_memory=False.\n",
      "  labels_df = pd.read_csv(labels_path)\n"
     ]
    }
   ],
   "source": [
    "# CONFIG\n",
    "labels_path = \"/neurospin/dico/rmenasria/Runs/03_main/Input/csv_cognition_abcd/nc_y_nihtb.csv\"\n",
    "base_path   = \"/neurospin/dico/data/deep_folding/current/models/Champollion_V1_after_ablation/embeddings/ABCD_embeddings/\"\n",
    "\n",
    "scores = [\n",
    " 'nihtbx_flanker_agecorrected',\n",
    " 'nihtbx_cardsort_agecorrected',\n",
    " 'nihtbx_list_agecorrected',\n",
    " 'nihtbx_pattern_agecorrected',\n",
    " 'nihtbx_picvocab_agecorrected',\n",
    " 'nihtbx_reading_agecorrected',\n",
    " 'nihtbx_fluidcomp_agecorrected',\n",
    " 'nihtbx_cryst_agecorrected',\n",
    " 'nihtbx_totalcomp_agecorrected'\n",
    "]\n",
    "\n",
    "labels_df = pd.read_csv(labels_path)\n",
    "print(labels_df.shape)\n",
    "labels_df = labels_df[labels_df[\"eventname\"] == \"baseline_year_1_arm_1\"]\n",
    "print(labels_df.shape)\n",
    "\n",
    "existing_scores = [s for s in scores if s in labels_df.columns]\n",
    "cols = [\"src_subject_id\"] + existing_scores\n",
    "labels_df = labels_df[cols]\n",
    "print(labels_df.index)\n",
    "\n",
    "regions = get_region_list(os.path.join(base_path,\"../..\"))\n",
    "regions.remove(\"params_OLS\")\n",
    "regions.remove(\"region_list\")\n",
    "regions.remove(\"analysis\")\n",
    "#regions = [\"STs_right\",\"FCLp-subsc-FCLa-INSULA_right\",\"FCMpost-SpC_right\",\"STi-STs-STpol_right\"]\n",
    "#region = regions[0]\n",
    "\n",
    "labels_df['src_subject_id'] = (\n",
    "    labels_df['src_subject_id'].astype(str)\n",
    "    .str.replace(r\"^sub-\", \"\", regex=True)\n",
    "    .str.replace(\"_\", \"\", regex=False)\n",
    ")\n",
    "\n",
    "df_ages = pd.read_csv(\"/neurospin/dico/rmenasria/Runs/03_main/Input/ABCD/prematurity_labels_true_classes.csv\")\n",
    "df_ages = df_ages[df_ages[\"prem_class\"].isin([\"<28\",\"28-32\", \"32-37\", \">=37\"])]\n"
   ]
  },
  {
   "cell_type": "code",
   "execution_count": 63,
   "metadata": {},
   "outputs": [],
   "source": [
    "def preprocess_data(df):\n",
    "    \n",
    "    df_with_cognition_and_ages= df.merge(\n",
    "        labels_df,\n",
    "        left_on='src_subject_id', right_on='src_subject_id', how='inner'\n",
    "    )\n",
    "\n",
    "    return df_with_cognition_and_ages\n",
    "\n",
    "df = preprocess_data(df_ages)\n",
    "df.to_csv(\n",
    "    \"df_with_cognition_and_ages.csv\",\n",
    "    index=False\n",
    ")"
   ]
  },
  {
   "cell_type": "code",
   "execution_count": null,
   "metadata": {},
   "outputs": [
    {
     "name": "stdout",
     "output_type": "stream",
     "text": [
      "Loaded: (9856, 14)\n",
      "Saved summary to prematurity_stats_simple.csv\n"
     ]
    }
   ],
   "source": [
    "from scipy.stats import pearsonr, ttest_ind\n",
    "\n",
    "# CONFIG\n",
    "data_csv = \"/neurospin/dico/rmenasria/Runs/03_main/Program/2025_rmenasria_prematurity/notebooks/racim/df_with_cognition_and_ages.csv\"  \n",
    "ga_col = \"gest_age\"        \n",
    "prem_binary_col = \"devhx_12a_p\"  # 1 = préma, 0 = terme\n",
    "out_csv = \"prematurity_stats_simple.csv\"\n",
    "\n",
    "df = pd.read_csv(data_csv)\n",
    "df[prem_binary_col] = df[prem_binary_col].astype(int)\n",
    "print(\"Loaded:\", df.shape)\n",
    "\n",
    "#Cohen's d\n",
    "def cohen_d(x, y):\n",
    "    nx, ny = len(x), len(y)\n",
    "    if nx < 2 or ny < 2:\n",
    "        return np.nan\n",
    "    mx, my = np.mean(x), np.mean(y)\n",
    "    sx2, sy2 = np.var(x, ddof=1), np.var(y, ddof=1)\n",
    "    pooled = np.sqrt(((nx-1)*sx2 + (ny-1)*sy2) / (nx+ny-2)) if (nx+ny-2)>0 else np.nan\n",
    "    if pooled == 0 or np.isnan(pooled):\n",
    "        return np.nan\n",
    "    return (mx - my) / pooled\n",
    "\n",
    "rows = []\n",
    "for score in scores:\n",
    "    r_row = {'score': score}\n",
    "\n",
    "    # Pearson correlation GA -score\n",
    "    sub_pre = df[df[\"prem_class\"].isin([\"28-32\"])][[score, ga_col]].dropna()\n",
    "    if sub_pre.shape[0] >= 4:\n",
    "        r_pre, p_pre = pearsonr(sub_pre[ga_col], sub_pre[score])\n",
    "    else:\n",
    "        r_pre, p_pre = np.nan, np.nan\n",
    "    r_row['pearson_r_ga_pre'] = r_pre\n",
    "    r_row['pearson_p_ga_pre'] = p_pre\n",
    "    r_row['n_pre_corr'] = len(sub_pre)\n",
    "\n",
    "    # pearson on fullterms\n",
    "    sub_smallpreterm = df[df[\"prem_class\"].isin([\"32-37\"])][[score, ga_col]].dropna()\n",
    "    if sub_smallpreterm.shape[0] >= 4:\n",
    "        r_term, p_term = pearsonr(sub_smallpreterm[ga_col], sub_smallpreterm[score])\n",
    "    else:\n",
    "        r_term, p_term = np.nan, np.nan\n",
    "    r_row['pearson_r_ga_smallpre'] = r_term\n",
    "    r_row['pearson_p_ga_smallpre'] = p_term\n",
    "    r_row['n_smallpre_corr'] = len(sub_smallpreterm)\n",
    "\n",
    "    # Welch t-test preterms vs terms\n",
    "    sub_t = df[[score, prem_binary_col]].dropna()\n",
    "    grp_pre  = sub_t[sub_t[prem_binary_col] == 1][score].values\n",
    "    grp_term = sub_t[sub_t[prem_binary_col] == 0][score].values\n",
    "    r_row['n_pre']  = len(grp_pre)\n",
    "    r_row['n_term'] = len(grp_term)\n",
    "\n",
    "    if len(grp_pre) >= 3 and len(grp_term) >= 3:\n",
    "        t_stat, p_t = ttest_ind(grp_pre, grp_term, equal_var=False, nan_policy='omit')\n",
    "        d = cohen_d(grp_pre, grp_term)\n",
    "    else:\n",
    "        t_stat, p_t, d = np.nan, np.nan, np.nan\n",
    "\n",
    "    r_row['t_stat_pre_vs_term'] = t_stat\n",
    "    r_row['p_t_pre_vs_term'] = p_t\n",
    "    r_row['cohen_d_pre_vs_term'] = d\n",
    "\n",
    "    rows.append(r_row)\n",
    "\n",
    "res_df = pd.DataFrame(rows)\n",
    "res_df.to_csv(out_csv, index=False)\n",
    "print(\"Saved summary to\", out_csv)\n"
   ]
  }
 ],
 "metadata": {
  "kernelspec": {
   "display_name": "default",
   "language": "python",
   "name": "python3"
  },
  "language_info": {
   "codemirror_mode": {
    "name": "ipython",
    "version": 3
   },
   "file_extension": ".py",
   "mimetype": "text/x-python",
   "name": "python",
   "nbconvert_exporter": "python",
   "pygments_lexer": "ipython3",
   "version": "3.11.0"
  }
 },
 "nbformat": 4,
 "nbformat_minor": 2
}
