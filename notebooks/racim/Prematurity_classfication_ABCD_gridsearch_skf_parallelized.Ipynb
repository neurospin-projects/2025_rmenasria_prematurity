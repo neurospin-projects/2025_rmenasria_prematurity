{
 "cells": [
  {
   "cell_type": "code",
   "execution_count": 1,
   "metadata": {},
   "outputs": [],
   "source": [
    "import os\n",
    "import csv\n",
    "import numpy as np\n",
    "import pandas as pd\n",
    "import multiprocessing\n",
    "from time import perf_counter\n",
    "from tqdm.auto import tqdm\n",
    "from sklearn.svm import SVC\n",
    "from sklearn.pipeline import Pipeline\n",
    "from sklearn.preprocessing import StandardScaler\n",
    "from sklearn.model_selection import (\n",
    "    StratifiedKFold,\n",
    "    GridSearchCV,\n",
    "    cross_val_score,\n",
    "    permutation_test_score,\n",
    ")\n",
    "from concurrent.futures import ProcessPoolExecutor, as_completed"
   ]
  },
  {
   "cell_type": "code",
   "execution_count": 2,
   "metadata": {},
   "outputs": [],
   "source": [
    "# CONFIG\n",
    "labels_path = \"/neurospin/dico/rmenasria/Runs/03_main/Input/ABCD/ABCD_preterm_labels_light.csv\"\n",
    "base_path   = \"/neurospin/dico/data/deep_folding/current/models/Champollion_V1_after_ablation/embeddings/ABCD_embeddings/\"\n",
    "output_csv  = \"/neurospin/dico/rmenasria/Runs/03_main/Program/2025_rmenasria_prematurity/notebooks/racim/ABCD_prematurity_results.csv\"\n",
    "thresholds  = [\"<27\",\"27-32\",\"32-37\"]"
   ]
  },
  {
   "cell_type": "code",
   "execution_count": 3,
   "metadata": {},
   "outputs": [],
   "source": [
    "labels_df = pd.read_csv(labels_path, low_memory=False)\n",
    "labels_df['src_subject_id'] = labels_df['src_subject_id'].str.replace(\"_\",\"\")"
   ]
  },
  {
   "cell_type": "code",
   "execution_count": 4,
   "metadata": {},
   "outputs": [],
   "source": [
    "def classify(region, threshold, n_jobs_inner):\n",
    "    print(f\"Début traitement : region={region}, seuil={threshold}\")\n",
    "    t0 = perf_counter()\n",
    "\n",
    "    # Chargement dynamique du fichier d'embedding\n",
    "    embedding_file = None\n",
    "    for file in os.listdir(base_path):\n",
    "        if file.startswith(region) and file.endswith(\".csv\"):\n",
    "            embedding_file = file\n",
    "            break\n",
    "    if embedding_file is None:\n",
    "        raise FileNotFoundError(f\"No embedding file found for region: {region}\")\n",
    "    \n",
    "    emb_path = os.path.join(base_path, embedding_file)\n",
    "    emb_df = pd.read_csv(emb_path)\n",
    "    emb_df['ID_clean'] = (\n",
    "        emb_df['ID'].astype(str)\n",
    "        .str.replace(r\"^sub-\", \"\", regex=True)\n",
    "        .str.replace(\"_\", \"\", regex=False)\n",
    "    )\n",
    "\n",
    "    df = emb_df.merge(\n",
    "        labels_df,\n",
    "        left_on='ID_clean', right_on='src_subject_id', how='inner'\n",
    "    )\n",
    "    df = df[df['prem_class'].isin([threshold, \">=37\"])].copy()\n",
    "    df['y'] = (df['prem_class'] == threshold).astype(int)\n",
    "    X = df.filter(regex=r'^dim').values\n",
    "    y = df['y'].values\n",
    "\n",
    "    pipe = Pipeline([\n",
    "        ('scaler', StandardScaler()),\n",
    "        ('svc', SVC(kernel='linear', probability=True, class_weight='balanced'))\n",
    "    ])\n",
    "    cv = StratifiedKFold(n_splits=5, shuffle=True, random_state=42)\n",
    "    grid = GridSearchCV(\n",
    "        pipe, {'svc__C': [0.01, 0.1, 1, 10]},\n",
    "        cv=cv, scoring='roc_auc', n_jobs=n_jobs_inner\n",
    "    )\n",
    "    grid.fit(X, y)\n",
    "    best_C = grid.best_params_['svc__C']\n",
    "    cv_scores = cross_val_score(grid.best_estimator_, X, y,\n",
    "                                cv=cv, scoring='roc_auc', n_jobs=n_jobs_inner)\n",
    "    perm_score, perm_scores, pval = permutation_test_score(\n",
    "        grid.best_estimator_, X, y,\n",
    "        scoring='roc_auc', cv=cv,\n",
    "        n_permutations=1, n_jobs=n_jobs_inner, random_state=0\n",
    "    )\n",
    "    ci95 = np.percentile(perm_scores, 95)\n",
    "    t1 = perf_counter()\n",
    "    print(f\"{region}–{threshold} → AUC {cv_scores.mean():.3f}\")\n",
    "\n",
    "    return {\n",
    "        'region': region,\n",
    "        'threshold': threshold,\n",
    "        'best_C': best_C,\n",
    "        'cv_auc_mean': cv_scores.mean(),\n",
    "        'cv_auc_std': cv_scores.std(),\n",
    "        'ci95_null': ci95,\n",
    "        'perm_pvalue': pval,\n",
    "        'duration_min': (t1 - t0) / 60\n",
    "    }\n"
   ]
  },
  {
   "cell_type": "code",
   "execution_count": 6,
   "metadata": {},
   "outputs": [],
   "source": [
    "def get_region_list(model_path):\n",
    "    return sorted([\n",
    "        d for d in os.listdir(model_path)\n",
    "        if os.path.isdir(os.path.join(model_path, d))\n",
    "           and not d.startswith('all_models')\n",
    "           and not d.startswith('hcp')\n",
    "           and not d.startswith('ukb')\n",
    "           and not d.endswith('.csv')\n",
    "           and not d.endswith('.sh')\n",
    "           and not d.endswith('embeddings')\n",
    "    ])"
   ]
  },
  {
   "cell_type": "code",
   "execution_count": 7,
   "metadata": {},
   "outputs": [
    {
     "name": "stdout",
     "output_type": "stream",
     "text": [
      "Regions found: ['CINGULATE_left', 'CINGULATE_right', 'FCLp-subsc-FCLa-INSULA_left', 'FCLp-subsc-FCLa-INSULA_right', 'FCMpost-SpC_left', 'FCMpost-SpC_right', 'FColl-SRh_left', 'FColl-SRh_right', 'FIP_left', 'FIP_right', 'FPO-SCu-ScCal_left', 'FPO-SCu-ScCal_right', 'LARGE_CINGULATE_left', 'LARGE_CINGULATE_right', 'Lobule_parietal_sup_left', 'Lobule_parietal_sup_right', 'OCCIPITAL_left', 'OCCIPITAL_right', 'SC-SPeC_left', 'SC-SPeC_right', 'SC-SPoC_left', 'SC-SPoC_right', 'SC-sylv_left', 'SC-sylv_right', 'SFinf-BROCA-SPeCinf_left', 'SFinf-BROCA-SPeCinf_right', 'SFint-FCMant_left', 'SFint-FCMant_right', 'SFint-SR_left', 'SFint-SR_right', 'SFinter-SFsup_left', 'SFinter-SFsup_right', 'SFmarginal-SFinfant_left', 'SFmarginal-SFinfant_right', 'SFmedian-SFpoltr-SFsup_left', 'SFmedian-SFpoltr-SFsup_right', 'SOr-SOlf_left', 'SOr-SOlf_right', 'SOr_left', 'SOr_right', 'SPeC_left', 'SPeC_right', 'SPoC_left', 'SPoC_right', 'STi-SOTlat_left', 'STi-SOTlat_right', 'STi-STs-STpol_left', 'STi-STs-STpol_right', 'STs_left', 'STs_right', 'STsbr_left', 'STsbr_right', 'ScCal-SLi_left', 'ScCal-SLi_right', 'SsP-SPaint_left', 'SsP-SPaint_right', 'fronto-parietal_medial_face_left', 'fronto-parietal_medial_face_right']\n",
      "Number of regions: 58\n"
     ]
    }
   ],
   "source": [
    "model_path=\"/neurospin/dico/data/deep_folding/current/models/Champollion_V1_after_ablation\"\n",
    "\n",
    "region_list=get_region_list(model_path)\n",
    "region_list.remove(\"analysis\")\n",
    "region_list.remove(\"region_list\")\n",
    "region_list.remove(\"params_OLS\")\n",
    "print(f\"Regions found: {region_list}\")\n",
    "print(f\"Number of regions: {len(region_list)}\")\n",
    "\n",
    "# missing=[r for r in region_list if r not in emb_cache]\n",
    "# print(missing)"
   ]
  },
  {
   "cell_type": "code",
   "execution_count": 8,
   "metadata": {},
   "outputs": [
    {
     "name": "stdout",
     "output_type": "stream",
     "text": [
      "Parallelisation : outer=24, inner=4\n"
     ]
    }
   ],
   "source": [
    "# Combinaisons à tester\n",
    "combos = [(r, t) for r in region_list for t in thresholds]\n",
    "\n",
    "# Initialisation du CSV de checkpoint\n",
    "with open(output_csv, 'w') as f:\n",
    "    writer = csv.DictWriter(f, fieldnames=[\n",
    "        'region','threshold','best_C','cv_auc_mean','cv_auc_std',\n",
    "        'ci95_null','perm_pvalue','duration_min'\n",
    "    ])\n",
    "    writer.writeheader()\n",
    "\n",
    "# Calcul du parallélisme\n",
    "total_cpus   = multiprocessing.cpu_count()\n",
    "n_jobs_outer = max(1, total_cpus // 4)\n",
    "n_jobs_inner = max(1, total_cpus // n_jobs_outer)\n",
    "print(f\"Parallelisation : outer={n_jobs_outer}, inner={n_jobs_inner}\")"
   ]
  },
  {
   "cell_type": "code",
   "execution_count": 9,
   "metadata": {},
   "outputs": [
    {
     "data": {
      "application/vnd.jupyter.widget-view+json": {
       "model_id": "cb5524beefa743d5bb5f9f0aba761928",
       "version_major": 2,
       "version_minor": 0
      },
      "text/plain": [
       "Blocs traités:   0%|          | 0/1 [00:00<?, ?it/s]"
      ]
     },
     "metadata": {},
     "output_type": "display_data"
    },
    {
     "name": "stdout",
     "output_type": "stream",
     "text": [
      "Début traitement : region=LARGE_CINGULATE_left, seuil=27-32\n",
      "LARGE_CINGULATE_left–27-32 → AUC 0.592\n",
      "Terminé : résultats checkpoint dans /neurospin/dico/rmenasria/Runs/03_main/Program/2025_rmenasria_prematurity/notebooks/racim/ABCD_prematurity_results.csv\n"
     ]
    },
    {
     "name": "stderr",
     "output_type": "stream",
     "text": [
      "/neurospin/dico/rmenasria/Runs/03_main/Program/main_pixi/.pixi/envs/default/lib/python3.11/site-packages/joblib/externals/loky/backend/resource_tracker.py:299: UserWarning: resource_tracker: There appear to be 3 leaked folder objects to clean up at shutdown\n",
      "  warnings.warn(\n"
     ]
    }
   ],
   "source": [
    "with ProcessPoolExecutor(max_workers=n_jobs_outer) as exe:\n",
    "    futures = {\n",
    "        exe.submit(classify, r, t, n_jobs_inner): (r, t)\n",
    "        for r, t in combos\n",
    "    }\n",
    "    for future in tqdm(as_completed(futures), total=len(futures), desc=\"Blocs traités\"):\n",
    "        res = future.result()\n",
    "        with open(output_csv, 'a') as f:\n",
    "            writer = csv.DictWriter(f, fieldnames=res.keys())\n",
    "            writer.writerow(res)\n",
    "\n",
    "print(\"Terminé : résultats checkpoint dans\", output_csv)\n",
    "\n",
    "        \n",
    "    "
   ]
  }
 ],
 "metadata": {
  "kernelspec": {
   "display_name": "default",
   "language": "python",
   "name": "python3"
  },
  "language_info": {
   "codemirror_mode": {
    "name": "ipython",
    "version": 3
   },
   "file_extension": ".py",
   "mimetype": "text/x-python",
   "name": "python",
   "nbconvert_exporter": "python",
   "pygments_lexer": "ipython3",
   "version": "3.11.0"
  }
 },
 "nbformat": 4,
 "nbformat_minor": 2
}
