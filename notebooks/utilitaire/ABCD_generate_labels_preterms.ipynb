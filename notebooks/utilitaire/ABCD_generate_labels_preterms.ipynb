{
 "cells": [
  {
   "cell_type": "code",
   "execution_count": 103,
   "metadata": {},
   "outputs": [],
   "source": [
    "import os\n",
    "import numpy as np\n",
    "import pandas as pd\n",
    "from sklearn.svm import SVC\n",
    "from sklearn.preprocessing import StandardScaler\n",
    "from sklearn.model_selection import StratifiedKFold, GridSearchCV, cross_val_predict, cross_val_score\n",
    "from sklearn.metrics import roc_auc_score\n",
    "import matplotlib.pyplot as plt\n"
   ]
  },
  {
   "cell_type": "code",
   "execution_count": 114,
   "metadata": {},
   "outputs": [
    {
     "name": "stdout",
     "output_type": "stream",
     "text": [
      "Selected embedding file: STs_right_name08-32-58--52_embeddings.csv\n"
     ]
    }
   ],
   "source": [
    "region = \"STs_right\"\n",
    "\n",
    "labels_path = \"/neurospin/dico/rmenasria/Runs/03_main/Input/remote_data/ph_p_dhx.csv\"\n",
    "base_path = \"/neurospin/dico/data/deep_folding/current/models/Champollion_V1_after_ablation/embeddings/ABCD_embeddings/\"\n",
    "\n",
    "#get list of files available from base path\n",
    "files = os.listdir(base_path)\n",
    "\n",
    "#select region-specific file\n",
    "for file in files:\n",
    "    if file.startswith(region)  and file.endswith('.csv'):\n",
    "        embedding_file = file\n",
    "        break\n",
    "print(f\"Selected embedding file: {embedding_file}\")\n",
    "\n",
    "# path to the embedding file\n",
    "embedding_path = os.path.join(base_path, embedding_file)\n"
   ]
  },
  {
   "cell_type": "code",
   "execution_count": 147,
   "metadata": {},
   "outputs": [
    {
     "name": "stdout",
     "output_type": "stream",
     "text": [
      "After cleaning, ID's in common: 10126\n",
      "Examples common IDs : ['NDARINVUZBAVXHW', 'NDARINV0HH094Z9', 'NDARINVVCLE058V', 'NDARINV1VCFJ6CR', 'NDARINVR3NZ8ZKA', 'NDARINVBCEBWGDG', 'NDARINVL8WPT2T3', 'NDARINV891DYM0E', 'NDARINV2RB7270C', 'NDARINVUW2UNAF1']\n",
      "Final shapes → embeddings: (9985, 32) labels: (9985,)\n"
     ]
    }
   ],
   "source": [
    "labels_df     = pd.read_csv(labels_path, low_memory=False)\n",
    "embeddings_df = pd.read_csv(embedding_path)\n",
    "\n",
    "\n",
    "\n",
    "\n",
    "# Standardisation of the embedding IDs\n",
    "embeddings_df['ID_clean'] = (\n",
    "    embeddings_df['ID']\n",
    "    .astype(str)\n",
    "    .str.strip()\n",
    "    .str.replace(r\"^sub-\", \"\", regex=True)       # remove \"sub-\"\n",
    "    .str.replace(\"_\", \"\", regex=False)           # remove \"_\"\n",
    ")\n",
    "\n",
    "# Standardisation of the labels IDs\n",
    "labels_df = labels_df.copy()\n",
    "labels_df['src_subject_id_clean'] = (\n",
    "    labels_df['src_subject_id']\n",
    "    .astype(str)\n",
    "    .str.strip()\n",
    "    .str.replace(\"_\", \"\", regex=False)           # retire tous les \"_\"\n",
    ")\n",
    "\n",
    "# Get all the common IDs after cleaning\n",
    "set_emb = set(embeddings_df['ID_clean'])\n",
    "set_lab = set(labels_df['src_subject_id_clean'])\n",
    "common  = set_emb & set_lab\n",
    "print(\"After cleaning, ID's in common:\", len(common))\n",
    "\n",
    "# Print a sample of common IDs\n",
    "print(\"Examples common IDs :\", list(common)[:10])\n",
    "\n",
    "merged_df = embeddings_df.merge(\n",
    "    labels_df[['src_subject_id_clean', 'devhx_12a_p', 'devhx_12_p']],\n",
    "    left_on='ID_clean',\n",
    "    right_on='src_subject_id_clean',\n",
    "    how='inner'\n",
    ").drop_duplicates(subset='src_subject_id_clean')\n",
    "\n",
    "# Exclude all subjects for which the lprematurity abels are not available\n",
    "merged_df = merged_df[\n",
    "    (merged_df['devhx_12a_p'].notna()) &\n",
    "    (merged_df['devhx_12a_p'] != 999) &\n",
    "    (merged_df['devhx_12_p']!= 999) \n",
    "]\n",
    "\n",
    "# Final extraction\n",
    "labels_final     = merged_df['devhx_12a_p'].values\n",
    "embeddings_final = merged_df.filter(regex=r'^dim').values\n",
    "\n",
    "print(\"Final shapes → embeddings:\", embeddings_final.shape,\n",
    "      \"labels:\", labels_final.shape)\n"
   ]
  },
  {
   "cell_type": "code",
   "execution_count": 150,
   "metadata": {},
   "outputs": [
    {
     "name": "stdout",
     "output_type": "stream",
     "text": [
      "gest_age\n",
      "33.0    486\n",
      "34.0    256\n",
      "31.0    240\n",
      "32.0    231\n",
      "35.0    169\n",
      "29.0    161\n",
      "30.0     97\n",
      "36.0     54\n",
      "24.0     38\n",
      "28.0     36\n",
      "27.0     36\n",
      "25.0     10\n",
      "26.0      4\n",
      "Name: count, dtype: int64\n"
     ]
    }
   ],
   "source": [
    "# Classes of prematurity \n",
    "merged_df['gest_age'] = 37 - merged_df['devhx_12_p']\n",
    "print(merged_df['gest_age'].value_counts())\n",
    "\n",
    "\n"
   ]
  },
  {
   "cell_type": "code",
   "execution_count": 151,
   "metadata": {},
   "outputs": [],
   "source": [
    "def prem_class_true(ga):\n",
    "    if ga < 27:\n",
    "        return '<27'         # extreme preterm\n",
    "    elif 27<= ga < 32:\n",
    "        return '27-32'       # very preterm\n",
    "    elif 32<= ga < 37:\n",
    "        return '32-37'       # moderate preterm\n",
    "    else:\n",
    "        return '>=37'        # full term"
   ]
  },
  {
   "cell_type": "code",
   "execution_count": 152,
   "metadata": {},
   "outputs": [
    {
     "name": "stdout",
     "output_type": "stream",
     "text": [
      " Counts of the true gestational age:\n",
      "prem_class\n",
      ">=37     8167\n",
      "32-37    1196\n",
      "27-32     570\n",
      "<27        52\n",
      "Name: count, dtype: int64 \n",
      "\n"
     ]
    }
   ],
   "source": [
    "merged_df['prem_class'] = merged_df['gest_age'].apply(prem_class_true)\n",
    "\n",
    "# Checking the counts\n",
    "print(\" Counts of the true gestational age:\")\n",
    "print(merged_df['prem_class'].value_counts(), '\\n')\n"
   ]
  },
  {
   "cell_type": "code",
   "execution_count": null,
   "metadata": {},
   "outputs": [
    {
     "name": "stdout",
     "output_type": "stream",
     "text": [
      "CSV sauvegardé : prematurity_labels_true_classes.csv\n",
      "    src_subject_id  devhx_12a_p  devhx_12_p  gest_age prem_class\n",
      "0  NDARINV003RTV85          0.0         NaN       NaN       >=37\n",
      "1  NDARINV007W6H7B          0.0         NaN       NaN       >=37\n",
      "2  NDARINV00BD7VDC          0.0         NaN       NaN       >=37\n",
      "3  NDARINV00HEV6HB          0.0         NaN       NaN       >=37\n",
      "4  NDARINV00J52GPG          0.0         NaN       NaN       >=37\n"
     ]
    }
   ],
   "source": [
    "export_df = merged_df[[\n",
    "    'ID_clean',      # clean id\n",
    "    'devhx_12a_p',   # is preterm\n",
    "    'devhx_12_p',    # nb weeks before term\n",
    "    'gest_age',      # gestional age\n",
    "    'prem_class'     # prematurity class\n",
    "]].rename(columns={'ID_clean':'src_subject_id'})\n",
    "\n",
    "out_path = 'prematurity_labels_true_classes.csv'\n",
    "export_df.to_csv(out_path, index=False)\n",
    "\n",
    "print(f\"CSV sauvegardé : {out_path}\")\n",
    "print(export_df.head())"
   ]
  },
  {
   "cell_type": "code",
   "execution_count": 142,
   "metadata": {},
   "outputs": [
    {
     "name": "stdout",
     "output_type": "stream",
     "text": [
      "Sujets appariés : 10126 lignes × 305 colonnes\n",
      "Après exclusion des 999/NaN : 9985 sujets\n",
      "Répartition des vraies classes :\n",
      "prem_class\n",
      ">=37_sem     8167\n",
      "32-37_sem    1196\n",
      "27-32_sem     570\n",
      "<27_sem        52\n",
      "Name: count, dtype: int64\n",
      "\n",
      "CSV complet sauvegardé ici : prematurity_labels_complete.csv\n",
      "    src_subject_id    src_subject_id              eventname  \\\n",
      "0  NDARINV003RTV85  NDAR_INV003RTV85  baseline_year_1_arm_1   \n",
      "1  NDARINV007W6H7B  NDAR_INV007W6H7B  baseline_year_1_arm_1   \n",
      "3  NDARINV00BD7VDC  NDAR_INV00BD7VDC  baseline_year_1_arm_1   \n",
      "4  NDARINV00HEV6HB  NDAR_INV00HEV6HB  baseline_year_1_arm_1   \n",
      "6  NDARINV00J52GPG  NDAR_INV00J52GPG  baseline_year_1_arm_1   \n",
      "\n",
      "   devhx_select_language  devhx_1_p  birth_weight_lbs  devhx_2_p_dk  \\\n",
      "0                      0        1.0               7.0           NaN   \n",
      "1                      0        0.0               8.0           NaN   \n",
      "3                      0        1.0               8.0           NaN   \n",
      "4                      0        1.0               6.0           NaN   \n",
      "6                      0        1.0               6.0           NaN   \n",
      "\n",
      "   birth_weight_oz  devhx_2b_p_dk  devhx_3_p  ...  devhx_ss_9_alcohol_avg_p  \\\n",
      "0             11.0            NaN       33.0  ...                       0.0   \n",
      "1             11.0            NaN       32.0  ...                       0.0   \n",
      "3             12.0            NaN       29.0  ...                       0.0   \n",
      "4             14.0            NaN       25.0  ...                       0.0   \n",
      "6              0.0            NaN       36.0  ...                       0.0   \n",
      "\n",
      "   devhx_ss_9_alcohol_effects_p  devhx_ss_9_marijuana_amt_p  \\\n",
      "0                           0.0                         0.0   \n",
      "1                           0.0                         0.0   \n",
      "3                           0.0                         0.0   \n",
      "4                           0.0                         0.0   \n",
      "6                           0.0                         0.0   \n",
      "\n",
      "   devhx_ss_9_coc_crack_amt_p  devhx_ss_9_her_morph_amt_p  \\\n",
      "0                         0.0                         0.0   \n",
      "1                         0.0                         0.0   \n",
      "3                         0.0                         0.0   \n",
      "4                         0.0                         0.0   \n",
      "6                         0.0                         0.0   \n",
      "\n",
      "   devhx_ss_9_oxycont_amt_p  devhx_ss_12_p  src_subject_id_clean gest_age  \\\n",
      "0                       0.0            0.0       NDARINV003RTV85      NaN   \n",
      "1                       0.0            0.0       NDARINV007W6H7B      NaN   \n",
      "3                       0.0            0.0       NDARINV00BD7VDC      NaN   \n",
      "4                       0.0            0.0       NDARINV00HEV6HB      NaN   \n",
      "6                       0.0            0.0       NDARINV00J52GPG      NaN   \n",
      "\n",
      "   prem_class  \n",
      "0    >=37_sem  \n",
      "1    >=37_sem  \n",
      "3    >=37_sem  \n",
      "4    >=37_sem  \n",
      "6    >=37_sem  \n",
      "\n",
      "[5 rows x 274 columns]\n"
     ]
    }
   ],
   "source": [
    "# load the labels and embeddings dataframes\n",
    "labels_df     = pd.read_csv(labels_path, low_memory=False)\n",
    "embeddings_df = pd.read_csv(embedding_path)\n",
    "\n",
    "# cleaning same as above\n",
    "embeddings_df['ID_clean'] = (\n",
    "    embeddings_df['ID']\n",
    "    .astype(str).str.strip()\n",
    "    .str.replace(r\"^sub-\", \"\", regex=True)\n",
    "    .str.replace(\"_\", \"\", regex=False)\n",
    ")\n",
    "# labels cleaning\n",
    "labels_df = labels_df.copy() \n",
    "labels_df['src_subject_id_clean'] = (\n",
    "    labels_df['src_subject_id']\n",
    "    .astype(str).str.strip()\n",
    "    .str.replace(\"_\", \"\", regex=False)\n",
    ")\n",
    "\n",
    "# Merge with all columns from labels_df\n",
    "merged_df = embeddings_df.merge(\n",
    "    labels_df,\n",
    "    left_on='ID_clean',\n",
    "    right_on='src_subject_id_clean',\n",
    "    how='inner'\n",
    ").drop_duplicates(subset='src_subject_id_clean')\n",
    "\n",
    "print(f\"Sujets appariés : {merged_df.shape[0]} lignes × {merged_df.shape[1]} colonnes\")\n",
    "\n",
    "# filtering same as above\n",
    "merged_df = merged_df[\n",
    "    merged_df['devhx_12a_p'].notna() &\n",
    "    (merged_df['devhx_12a_p'] != 999) &\n",
    "    (merged_df['devhx_12_p'] != 999)\n",
    "]\n",
    "print(f\"Après exclusion des 999/NaN : {merged_df.shape[0]} sujets\")\n",
    "\n",
    "# GA\n",
    "merged_df['gest_age'] = 37 - merged_df['devhx_12_p']\n",
    "\n",
    "def prem_class_true(ga):\n",
    "    if ga < 27:\n",
    "        return '<27'\n",
    "    elif ga < 32:\n",
    "        return '27-32'\n",
    "    elif ga < 37:\n",
    "        return '32-37'\n",
    "    else:\n",
    "        return '>=37'\n",
    "\n",
    "merged_df['prem_class'] = merged_df['gest_age'].apply(prem_class_true)\n",
    "print(\"Répartition des vraies classes :\")\n",
    "print(merged_df['prem_class'].value_counts())\n",
    "\n",
    "# export all columns\n",
    "orig_label_cols = labels_df.columns.tolist()\n",
    "\n",
    "# Columns to export\n",
    "export_cols = ['ID_clean'] + orig_label_cols + ['gest_age', 'prem_class']\n",
    "export_df   = merged_df[export_cols].rename(columns={'ID_clean':'src_subject_id'})\n",
    "\n",
    "out_path = 'prematurity_labels_complete.csv'\n",
    "export_df.to_csv(out_path, index=False)\n",
    "print(f\"\\nCSV complet sauvegardé ici : {out_path}\")\n",
    "print(export_df.head())"
   ]
  },
  {
   "cell_type": "code",
   "execution_count": null,
   "metadata": {},
   "outputs": [],
   "source": [
    "# 1) Identifiants présents dans embeddings mais pas dans labels\n",
    "emb_ids   = set(embeddings_df['ID'])\n",
    "label_ids = set(labels_df['src_subject_id'])\n",
    "missing_in_labels = sorted(list(emb_ids - label_ids))\n",
    "print(f\"{len(missing_in_labels)} IDs d'embeddings SANS label associé :\")\n",
    "print(missing_in_labels[:20], \"…\")   # on n’affiche que les 20 premiers\n",
    "\n",
    "# 2) Identifiants présents dans labels mais pas dans embeddings\n",
    "missing_in_embeddings = sorted(list(label_ids - emb_ids))\n",
    "print(f\"\\n{len(missing_in_embeddings)} IDs de labels SANS embedding :\")\n",
    "print(missing_in_embeddings[:20], \"…\")"
   ]
  }
 ],
 "metadata": {
  "kernelspec": {
   "display_name": "default",
   "language": "python",
   "name": "python3"
  },
  "language_info": {
   "codemirror_mode": {
    "name": "ipython",
    "version": 3
   },
   "file_extension": ".py",
   "mimetype": "text/x-python",
   "name": "python",
   "nbconvert_exporter": "python",
   "pygments_lexer": "ipython3",
   "version": "3.11.0"
  }
 },
 "nbformat": 4,
 "nbformat_minor": 2
}
