{
 "cells": [
  {
   "cell_type": "markdown",
   "metadata": {},
   "source": [
    "## Takes the metada from demo csv and adds it to labels csv"
   ]
  },
  {
   "cell_type": "code",
   "execution_count": 1,
   "metadata": {},
   "outputs": [],
   "source": [
    "import pandas as pd"
   ]
  },
  {
   "cell_type": "code",
   "execution_count": 2,
   "metadata": {},
   "outputs": [],
   "source": [
    "# Load the demo csv \n",
    "demo_df = pd.read_csv(\"/neurospin/dico/rmenasria/Runs/03_main/Input/remote_data/abcd_p_demo.csv\")"
   ]
  },
  {
   "cell_type": "code",
   "execution_count": 15,
   "metadata": {},
   "outputs": [
    {
     "name": "stdout",
     "output_type": "stream",
     "text": [
      "277\n",
      "0    NDAR_INV003RTV85\n",
      "1    NDAR_INV003RTV85\n",
      "2    NDAR_INV003RTV85\n",
      "3    NDAR_INV003RTV85\n",
      "4    NDAR_INV005V6D2C\n",
      "Name: src_subject_id, dtype: object\n",
      "48807\n",
      "11868\n"
     ]
    }
   ],
   "source": [
    "print(len(demo_df.columns))\n",
    "print(demo_df[\"src_subject_id\"].head())\n",
    "demo_df [\"clean_ID\"]= demo_df[\"src_subject_id\"].str.replace(\"_\",\"\")\n",
    "print(len(demo_df[\"clean_ID\"]))\n",
    "\n",
    "print(len(demo_df[demo_df[\"eventname\"]=='baseline_year_1_arm_1']))\n",
    "\n",
    "demo_df =demo_df[demo_df[\"eventname\"]=='baseline_year_1_arm_1']"
   ]
  },
  {
   "cell_type": "code",
   "execution_count": null,
   "metadata": {},
   "outputs": [
    {
     "name": "stdout",
     "output_type": "stream",
     "text": [
      "(9985, 274)\n"
     ]
    },
    {
     "name": "stderr",
     "output_type": "stream",
     "text": [
      "/tmp/ipykernel_1260698/1148034817.py:1: DtypeWarning: Columns (79,112,163,170) have mixed types. Specify dtype option on import or set low_memory=False.\n",
      "  labels_df = pd.read_csv(\"/neurospin/dico/rmenasria/Runs/03_main/Input/ABCD/ABCD_preterm_labels_complete.csv\")\n"
     ]
    }
   ],
   "source": [
    "labels_df = pd.read_csv(\"/neurospin/dico/rmenasria/Runs/03_main/Input/ABCD/ABCD_preterm_labels_complete.csv\")\n",
    "\n",
    "print(labels_df.shape)"
   ]
  },
  {
   "cell_type": "code",
   "execution_count": 18,
   "metadata": {},
   "outputs": [
    {
     "name": "stdout",
     "output_type": "stream",
     "text": [
      "11868\n",
      "(11868, 10)\n"
     ]
    },
    {
     "name": "stderr",
     "output_type": "stream",
     "text": [
      "/tmp/ipykernel_1260698/2492994959.py:1: DtypeWarning: Columns (4) have mixed types. Specify dtype option on import or set low_memory=False.\n",
      "  general_df = pd.read_csv(\"/neurospin/dico/rmenasria/Runs/03_main/Input/remote_data/abcd_y_lt.csv\")\n"
     ]
    }
   ],
   "source": [
    "general_df = pd.read_csv(\"/neurospin/dico/rmenasria/Runs/03_main/Input/remote_data/abcd_y_lt.csv\")\n",
    "\n",
    "print(len(general_df[\"src_subject_id\"].unique()))\n",
    "\n",
    "general_df = general_df[general_df[\"eventname\"]=='baseline_year_1_arm_1'] \n",
    "\n",
    "print(general_df.shape)\n",
    "general_df [\"general_id_clean\"] = general_df[\"src_subject_id\"].str.replace(\"_\",\"\")"
   ]
  },
  {
   "cell_type": "code",
   "execution_count": null,
   "metadata": {},
   "outputs": [
    {
     "name": "stdout",
     "output_type": "stream",
     "text": [
      "['demoi_p_select_language___1', 'demo_prim', 'demo_brthdat_v2', 'demo_ed_v2', 'demo_adopt_agex_v2', 'demo_adopt_agex_v2_bl_dk', 'demo_sex_v2', 'demo_gender_id_v2', 'demo_race_a_p___10', 'demo_race_a_p___11', 'demo_race_a_p___12', 'demo_race_a_p___13', 'demo_race_a_p___14', 'demo_race_a_p___15', 'demo_race_a_p___16', 'demo_race_a_p___17', 'demo_race_a_p___18', 'demo_race_a_p___19', 'demo_race_a_p___20', 'demo_race_a_p___21', 'demo_race_a_p___22', 'demo_race_a_p___23', 'demo_race_a_p___24', 'demo_race_a_p___25', 'demo_race_a_p___77', 'demo_race_a_p___99', 'demo_ethn_v2', 'demo_ethn2_v2', 'demo_origin_v2', 'demo_years_us_v2', 'demo_years_us_v2_dk', 'demo_relig_v2', 'demo_prnt_age_v2', 'demo_prnt_age_v2_bl_refuse', 'demo_prnt_gender_id_v2', 'demo_prnt_race_a_v2___10', 'demo_prnt_race_a_v2___11', 'demo_prnt_race_a_v2___12', 'demo_prnt_race_a_v2___13', 'demo_prnt_race_a_v2___14', 'demo_prnt_race_a_v2___15', 'demo_prnt_race_a_v2___16', 'demo_prnt_race_a_v2___17', 'demo_prnt_race_a_v2___18', 'demo_prnt_race_a_v2___19', 'demo_prnt_race_a_v2___20', 'demo_prnt_race_a_v2___21', 'demo_prnt_race_a_v2___22', 'demo_prnt_race_a_v2___23', 'demo_prnt_race_a_v2___24', 'demo_prnt_race_a_v2___25', 'demo_prnt_race_a_v2___77', 'demo_prnt_race_a_v2___99', 'naas_id', 'naas_mom_id', 'naas_id_dad', 'naas_birthplace', 'naas_raised', 'naas_comm_contact', 'naas_pride', 'naas_self_rating', 'naas_traditions', 'demo_prnt_ethn_v2', 'demo_prnt_ethn2_v2', 'demo_prnt_16', 'demo_prnt_16a', 'demo_prnt_origin_v2', 'demo_biofather_v2', 'demo_biomother_v2', 'demo_matgrandm_v2', 'demo_matgrandf_v2', 'demo_patgrandm_v2', 'demo_patgrandf_v2', 'demo_prnt_years_us_v2', 'demo_prnt_years_us_v2_dk', 'demo_prnt_marital_v2', 'demo_prnt_ed_v2', 'demo_prnt_empl_v2', 'demo_prnt_empl_time', 'demo_prnt_income_v2', 'demo_prnt_prtnr_v2', 'demo_prnt_prtnr_bio', 'demo_prnt_prtnr_adopt', 'demo_prtnr_ed_v2', 'demo_prtnr_empl_v2', 'demo_prtnr_empl_time', 'demo_prtnr_income_v2', 'demo_comb_income_v2', 'demo_fam_exp1_v2', 'demo_fam_exp2_v2', 'demo_fam_exp3_v2', 'demo_fam_exp4_v2', 'demo_fam_exp5_v2', 'demo_fam_exp6_v2', 'demo_fam_exp7_v2', 'demo_roster_v2', 'demo_roster_v2_refuse', 'fam_roster_2c_v2', 'fam_roster_3c_v2', 'fam_roster_4c_v2', 'fam_roster_5c_v2', 'fam_roster_6c_v2', 'fam_roster_7c_v2', 'fam_roster_8c_v2', 'fam_roster_9c_v2', 'fam_roster_10c_v2', 'fam_roster_11c_v2', 'fam_roster_12c_v2', 'fam_roster_13c_v2', 'fam_roster_14c_v2', 'fam_roster_15c_v2', 'demo_child_time_v2', 'demo_child_time2_v2', 'demo_child_time2_v2_dk', 'demo_child_time3_v2', 'demo_yrs_1', 'demo_yrs_2', 'demo_yrs_2a_2', 'demo_yrs_2b_2', 'demo_yrs_2_no_display___1', 'demo_race_a_p___0', 'demo_l_p_select_language___1', 'demo_prim_l', 'demo_brthdat_v2_l', 'demo_ed_v2_l', 'demo_gender_id_v2_l', 'demo_nat_lang_l', 'demo_nat_lang_2_l', 'demo_dual_lang_v2_l', 'demo_dual_lang_years_p___1', 'demo_dual_lang_years_p___2', 'demo_dual_lang_years_p___3', 'demo_dual_lang_years_p___4', 'demo_dual_lang_years_p___5', 'demo_dual_lang_years_p___6', 'demo_dual_lang_years_p___7', 'demo_dual_lang_years_p___8', 'demo_dual_lang_years_p___9', 'demo_dual_lang_years_p___10', 'demo_dual_lang_years_p___11', 'demo_relig_v2_l', 'demo_prnt_age_v2_l', 'demo_prnt_age_v2_refuse_l', 'demo_prnt_gender_id_v2_l', 'demo_prnt_race_a_v2_l___10', 'demo_prnt_race_a_v2_l___11', 'demo_prnt_race_a_v2_l___12', 'demo_prnt_race_a_v2_l___13', 'demo_prnt_race_a_v2_l___14', 'demo_prnt_race_a_v2_l___15', 'demo_prnt_race_a_v2_l___16', 'demo_prnt_race_a_v2_l___17', 'demo_prnt_race_a_v2_l___18', 'demo_prnt_race_a_v2_l___19', 'demo_prnt_race_a_v2_l___20', 'demo_prnt_race_a_v2_l___21', 'demo_prnt_race_a_v2_l___22', 'demo_prnt_race_a_v2_l___23', 'demo_prnt_race_a_v2_l___24', 'demo_prnt_race_a_v2_l___25', 'demo_prnt_race_a_v2_l___77', 'demo_prnt_race_a_v2_l___99', 'demo_prnt_ethn_v2_l', 'demo_prnt_ethn2_v2_l', 'demo_prnt_nat_lang_l', 'demo_prnt_nat_lang_2_l', 'demo_prnt_marital_v2_l', 'demo_prnt_ed_v2_l', 'demo_prnt_empl_v2_l', 'demo_prnt_empl_time_l', 'demo_prnt_indust_refuse_l', 'demo_prnt_income_v2_l', 'demo_prnt_prtnr_v2_l', 'demo_prnt_prtnr_bio_l', 'demo_prnt_prtnr_adopt_l', 'demo_prtnr_ed_v2_l', 'demo_prtnr_empl_v2_l', 'demo_prtnr_empl_time_l', 'demo_prtnr_indust_refuse_l', 'demo_prtnr_income_v2_l', 'demo_child_time_v2_l', 'demo_child_time2_v2_l', 'demo_child_time2_v2_dk_l', 'demo_child_time3_v2_l', 'demo_comb_income_v2_l', 'demo_roster_v2_l', 'demo_roster_v2_refuse_l', 'fam_roster_2c_v2_l', 'fam_roster_3c_v2_l', 'fam_roster_4c_v2_l', 'fam_roster_5c_v2_l', 'fam_roster_6c_v2_l', 'fam_roster_7c_v2_l', 'fam_roster_8c_v2_l', 'fam_roster_9c_v2_l', 'fam_roster_10c_v2_l', 'fam_roster_11c_v2_l', 'fam_roster_12c_v2_l', 'fam_roster_13c_v2_l', 'fam_roster_14c_v2_l', 'fam_roster_15c_v2_l', 'demo_fam_exp1_v2_l', 'demo_fam_exp2_v2_l', 'demo_fam_exp3_v2_l', 'demo_fam_exp4_v2_l', 'demo_fam_exp5_v2_l', 'demo_fam_exp6_v2_l', 'demo_fam_exp7_v2_l', 'demo_yrs_1_l', 'demo_yrs_2_l', 'demo_yrs_2a_l', 'demo_yrs_2b_l', 'demo_yrs_2_no_display_l___1', 'demo_med_insur_f_p', 'demo_med_insur_g_p', 'demo_med_insur_h_p', 'demo_prnt_race_acs_p__10', 'demo_prnt_race_acs_p__11', 'demo_prnt_race_acs_p__12', 'demo_prnt_race_acs_p__13', 'demo_prnt_race_acs_p__14', 'demo_prnt_race_acs_p__15', 'demo_prnt_race_acs_p__16', 'demo_prnt_race_acs_p__17', 'demo_prnt_race_acs_p__18', 'demo_prnt_race_acs_p__19', 'demo_prnt_race_acs_p__20', 'demo_prnt_race_acs_p__21', 'demo_prnt_race_acs_p__22', 'demo_prnt_race_acs_p__23', 'demo_prnt_race_acs_p__24', 'demo_prnt_race_acs_p__777', 'demo_prnt_race_acs_p__999', 'demo_prnt_ed_v2_2yr_l', 'demo_prnt_ethnic_acs_p', 'demo_prtnr_ed_v2_2yr_l', 'demo_med_insur_a_p', 'demo_med_insur_b_p', 'demo_med_insur_c_p', 'demo_med_insur_d_p', 'demo_med_insur_e_p', 'demo_nat_lang_3_yrs_eng_p___7', 'demo_nat_lang_3_yrs_eng_p___8', 'demo_nat_lang_3_yrs_eng_p___9', 'demo_nat_lang_3_yrs_eng_p___10', 'demo_nat_lang_3_yrs_eng_p___11', 'demo_nat_lang_3_yrs_eng_p___12', 'demo_nat_lang_3_yrs_eng_p___13', 'demo_nat_lang_3_yrs_eng_p___14', 'demo_nat_lang_3_yrs_other_p__0', 'demo_nat_lang_3_yrs_other_p__1', 'demo_nat_lang_3_yrs_other_p__2', 'demo_nat_lang_3_yrs_other_p__3', 'demo_nat_lang_3_yrs_other_p__4', 'demo_nat_lang_3_yrs_other_p__5', 'demo_nat_lang_3_yrs_other_p__6', 'demo_nat_lang_3_yrs_other_p__7', 'demo_nat_lang_3_yrs_other_p__8', 'demo_nat_lang_3_yrs_other_p__9', 'demo_nat_lang_3_yrs_other_p_10', 'demo_nat_lang_3_yrs_other_p_11', 'demo_nat_lang_3_yrs_eng_p___0', 'demo_nat_lang_3_yrs_other_p_12', 'demo_nat_lang_3_yrs_other_p_13', 'demo_nat_lang_3_yrs_other_p_14', 'demo_nat_lang_3_p', 'demo_nat_lang_3_yrs_eng_p___1', 'demo_nat_lang_3_yrs_eng_p___2', 'demo_nat_lang_3_yrs_eng_p___3', 'demo_nat_lang_3_yrs_eng_p___4', 'demo_nat_lang_3_yrs_eng_p___5', 'demo_nat_lang_3_yrs_eng_p___6', 'race_ethnicity', 'acs_raked_propensity_score', 'src_subject_id.1', 'devhx_select_language', 'devhx_1_p', 'birth_weight_lbs', 'devhx_2_p_dk', 'birth_weight_oz', 'devhx_2b_p_dk', 'devhx_3_p', 'devhx_3_p_dk', 'devhx_4_p', 'devhx_4_p_dk', 'devhx_5_p', 'devhx_6_p', 'devhx_7_p', 'devhx_7_p_dk', 'devhx_8_prescript_med', 'devhx_8_rxnorm_med1', 'devhx_8_med1_prn', 'devhx_8_med1_times', 'devhx_8_med1_times_dk', 'devhx_8_med1_how_much', 'devhx_8_med1_how_much_dk', 'devhx_8_med1_unit', 'devhx_8_med1_fu', 'devhx_8_rxnorm_med2', 'devhx_8_med2_prn', 'devhx_8_med2_times', 'devhx_8_med2_times_dk', 'devhx_8_med2_how_much', 'devhx_8_med2_how_much_dk', 'devhx_8_med2_unit', 'devhx_8_med2_fu', 'devhx_8_rxnorm_med3', 'devhx_8_med3_prn', 'devhx_8_med3_times', 'devhx_8_med3_times_dk', 'devhx_8_med3_how_much', 'devhx_8_med3_how_much_dk', 'devhx_8_med3_unit', 'devhx_8_tobacco', 'devhx_8_cigs_per_day', 'devhx_8_cigs_per_day_dk', 'devhx_8_alcohol', 'devhx_8_alchohol_max', 'devhx_8_alchohol_max_dk', 'devhx_8_alchohol_avg', 'devhx_8_alchohol_avg_dk', 'devhx_8_alcohol_effects', 'devhx_8_alcohol_effects_dk', 'devhx_8_marijuana', 'devhx_8_marijuana_amt', 'devhx_8_marijuana_amt_dk', 'devhx_8_coc_crack', 'devhx_8_coc_crack_amt', 'devhx_8_coc_crack_amt_dk', 'devhx_8_her_morph', 'devhx_8_her_morph_amt', 'devhx_8_her_morph_amt_dk', 'devhx_8_oxycont', 'devhx_8_oxycont_amt', 'devhx_8_oxycont_amt_dk', 'devhx_8_other_drugs', 'devhx_8_other1_name_2', 'devhx_8_other1_name_oth', 'devhx_8_other1_times', 'devhx_8_other1_times_dk', 'devhx_8_other1_amt', 'devhx_8_other1_amt_dk', 'devhx_8_other1_unit', 'devhx_8_other2_name_2', 'devhx_8_other2_name_oth', 'devhx_8_other2_times', 'devhx_8_other2_times_dk', 'devhx_8_other2_amt', 'devhx_8_other2_amt_dk', 'devhx_8_other2_unit', 'devhx_8_other3_name_2', 'devhx_8_other3_name_oth', 'devhx_8_other3_times', 'devhx_8_other3_times_dk', 'devhx_8_other3_amt', 'devhx_8_other3_amt_dk', 'devhx_8_other3_unit', 'devhx_8_other4_name_2', 'devhx_8_other4_name_oth', 'devhx_8_other4_times', 'devhx_8_other4_times_dk', 'devhx_8_other4_amt', 'devhx_8_other4_amt_dk', 'devhx_8_other4_unit', 'devhx_8_other5_name_2', 'devhx_8_other5_name_oth', 'devhx_8_other5_times', 'devhx_8_other5_times_dk', 'devhx_8_other5_amt', 'devhx_8_other5_amt_dk', 'devhx_8_other5_unit', 'devhx_9_prescript_med', 'devhx_9_med1_rxnorm', 'devhx_9_med1_prn', 'devhx_9_med1_times', 'devhx_9_med1_times_dk', 'devhx_9_med1_how_much', 'devhx_9_med1_how_much_dk', 'devhx_9_med1_unit', 'devhx_9_med1_fu', 'devhx_9_med2_rxnorm', 'devhx_9_med2_prn', 'devhx_9_med2_times', 'devhx_9_med2_rxnorm_dk', 'devhx_9_med2_how_much', 'devhx_9_med2_how_much_dk', 'devhx_9_med2_unit', 'devhx_9_med2_fu2', 'devhx_9_med3_rxnorm', 'devhx_9_med3_prn', 'devhx_9_med3_times', 'devhx_9_med3_times_dk', 'devhx_9_med3_how_much', 'devhx_9_med3_how_much_dk', 'devhx_9_med3_unit', 'devhx_9_med3_fu', 'devhx_9_med4_rxnorm', 'devhx_9_med4_prn', 'devhx_9_med4_times', 'devhx_9_med4_times_dk', 'devhx_9_med4_how_much', 'devhx_9_med4_how_much_dk', 'devhx_9_med4_unit', 'devhx_9_med4_fu', 'devhx_9_med5_rxnorm', 'devhx_9_med5_prn', 'devhx_9_med5_times', 'devhx_9_med5_times_dk', 'devhx_9_med5_how_much', 'devhx_9_med5_how_much_dk', 'devhx_9_med5_unit', 'devhx_9_tobacco', 'devhx_9_cigs_per_day', 'devhx_9_cigs_per_day_dk', 'devhx_9_alcohol', 'devhx_9_alchohol_max', 'devhx_9_alchohol_max_dk', 'devhx_9_alchohol_avg', 'devhx_9_alchohol_avg_dk', 'devhx_9_alcohol_effects', 'devhx_9_alcohol_effects_dk', 'devhx_9_marijuana', 'devhx_9_marijuana_amt', 'devhx_9_marijuana_amt_dk', 'devhx_9_coc_crack', 'devhx_9_coc_crack_amt', 'devhx_9_coc_crack_amt_dk', 'devhx_9_her_morph', 'devhx_9_her_morph_amt', 'devhx_9_her_morph_amt_dk', 'devhx_9_oxycont', 'devhx_9_oxycont_amt', 'devhx_9_oxycont_amt_dk', 'devhx_9_other_drugs', 'devhx_9_other1_name_2', 'devhx_9_other1_name_oth', 'devhx_9_other1_times', 'devhx_9_other1_times_dk', 'devhx_9_other1_amt', 'devhx_9_other1_amt_dk', 'devhx_9_other1_unit', 'devhx_9_other2_name_2', 'devhx_9_other2_name_oth', 'devhx_9_other2_times', 'devhx_9_other2_times_dk', 'devhx_9_other2_amt', 'devhx_9_other2_amt_dk', 'devhx_9_other2_unit', 'devhx_9_other3_name_2', 'devhx_9_other3_name_oth', 'devhx_9_other3_times', 'devhx_9_other3_times_dk', 'devhx_9_other3_unit', 'devhx_9_other3_amt', 'devhx_9_other3_amt_dk', 'devhx_9_other4_name_2', 'devhx_9_other4_name_oth', 'devhx_9_other4_times', 'devhx_9_other4_times_dk', 'devhx_9_other4_amt', 'devhx_9_other4_amt_dk', 'devhx_9_other4_unit', 'devhx_9_other5_name_2', 'devhx_9_other5_name_oth', 'devhx_9_other5_times', 'devhx_9_other5_times_dk', 'devhx_9_other5_amt', 'devhx_9_other5_amt_dk', 'devhx_9_other5_unit', 'devhx_10', 'devhx_caffeine_11', 'devhx_caffeine_amt', 'devhx_caffeine_amt_dk', 'devhx_caff_amt_week', 'devhx_caff_amt_week_dk', 'devhx_caff_amt_month', 'devhx_caff_amt_month_dk', 'devhx_10a3_p', 'devhx_10b3_p', 'devhx_10c3_p', 'devhx_10d3_p', 'devhx_10e3_p', 'devhx_10f3_p', 'devhx_10g3_p', 'devhx_10h3_p', 'devhx_10i3_p', 'devhx_10j3_p', 'devhx_10k3_p', 'devhx_10l3_p', 'devhx_10m3_p', 'devhx_11_p', 'devhx_11_p_dk', 'devhx_12a_p', 'devhx_12_p', 'devhx_13_3_p', 'devhx_14a3_p', 'devhx_14b3_p', 'devhx_14c3_p', 'devhx_14d3_p', 'devhx_14e3_p', 'devhx_14f3_p', 'devhx_14g3_p', 'devhx_14h3_p', 'devhx_15', 'devhx_15_dk', 'devhx_16_p', 'devhx_16_p_dk', 'devhx_17_p', 'devhx_17_p_dk', 'devhx_18_p', 'devhx_18_p_dk', 'devhx_19a_p', 'devhx_19a_p_dk', 'devhx_19b_p', 'devhx_19b_p_dk', 'devhx_19c_p', 'devhx_19c_p_dk', 'devhx_19d_p', 'devhx_19d_p_dk', 'devhx_20_p', 'devhx_21_p', 'devhx_22_3_p', 'devhx_23b_p', 'devhx_10c3_c_p', 'devhx_10c3_a_p', 'devhx_10c3_b_p', 'devhx_ss_8_cigs_per_day_p', 'devhx_ss_8_alcohol_max_p', 'devhx_ss_8_alcohol_avg_p', 'devhx_ss_8_alcohol_effects_p', 'devhx_ss_8_marijuana_amt_p', 'devhx_ss_8_coc_crack_amt_p', 'devhx_ss_8_her_morph_amt_p', 'devhx_ss_8_oxycont_amt_p', 'devhx_ss_9_cigs_per_day_p', 'devhx_ss_9_alcohol_max_p', 'devhx_ss_9_alcohol_avg_p', 'devhx_ss_9_alcohol_effects_p', 'devhx_ss_9_marijuana_amt_p', 'devhx_ss_9_coc_crack_amt_p', 'devhx_ss_9_her_morph_amt_p', 'devhx_ss_9_oxycont_amt_p', 'devhx_ss_12_p', 'src_subject_id_clean', 'gest_age', 'prem_class', 'src_subject_id', 'eventname', 'site_id_l', 'rel_family_id', 'rel_birth_id', 'school_id', 'district_id', 'interview_date', 'interview_age', 'visit_type']\n",
      "(9985, 556)\n",
      "0    baseline_year_1_arm_1\n",
      "1    baseline_year_1_arm_1\n",
      "2    baseline_year_1_arm_1\n",
      "3    baseline_year_1_arm_1\n",
      "4    baseline_year_1_arm_1\n",
      "Name: eventname, dtype: object\n",
      "[]\n"
     ]
    }
   ],
   "source": [
    "merged_df = pd.merge(demo_df,labels_df, left_on=\"clean_ID\", right_on=\"src_subject_id_clean\",how=\"inner\")\n",
    "merged_df = pd.merge(merged_df,general_df, left_on=\"clean_ID\",right_on=\"general_id_clean\",how=\"inner\")\n",
    "\n",
    "\n",
    "merged_df = merged_df.drop(columns=[\"general_id_clean\",\"clean_ID\",\"eventname_y\",\"eventname_x\",\"src_subject_id_x\",\"src_subject_id_y\"])\n",
    "\n",
    "list_columns= merged_df.columns.tolist()\n",
    "print(list_columns)\n",
    "print(merged_df.shape)\n",
    "\n",
    "\n",
    "print(merged_df[\"eventname\"].head())\n",
    "\n",
    "columns_y = [col for col in list_columns if col.endswith(\"_y\")]\n",
    "print(columns_y)\n",
    "\n"
   ]
  },
  {
   "cell_type": "code",
   "execution_count": 47,
   "metadata": {},
   "outputs": [
    {
     "name": "stdout",
     "output_type": "stream",
     "text": [
      "[]\n",
      "556\n"
     ]
    }
   ],
   "source": [
    "from collections import Counter\n",
    "\n",
    "duplicates = [item for item, count in Counter(list_columns).items() if count > 1]\n",
    "print(duplicates)\n",
    "\n",
    "print(len(list_columns))"
   ]
  },
  {
   "cell_type": "code",
   "execution_count": 50,
   "metadata": {},
   "outputs": [],
   "source": [
    "merged_df.set_index(\"src_subject_id_clean\",inplace=True)"
   ]
  },
  {
   "cell_type": "code",
   "execution_count": 52,
   "metadata": {},
   "outputs": [],
   "source": [
    "merged_df.to_csv((\"/neurospin/dico/rmenasria/Runs/03_main/Program/2025_rmenasria_prematurity/notebooks/racim/all_labels_clean_abcd.csv\"),index=True)"
   ]
  }
 ],
 "metadata": {
  "kernelspec": {
   "display_name": "default",
   "language": "python",
   "name": "python3"
  },
  "language_info": {
   "codemirror_mode": {
    "name": "ipython",
    "version": 3
   },
   "file_extension": ".py",
   "mimetype": "text/x-python",
   "name": "python",
   "nbconvert_exporter": "python",
   "pygments_lexer": "ipython3",
   "version": "3.11.0"
  }
 },
 "nbformat": 4,
 "nbformat_minor": 2
}
